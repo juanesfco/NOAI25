{
 "cells": [
  {
   "cell_type": "markdown",
   "id": "af9572d1",
   "metadata": {},
   "source": [
    "\n",
    "# 🏡 Task 1: Predict House Prices\n",
    "\n",
    "In this task, you are given a dataset containing square footage and number of bedrooms for several houses. Your objective is to build a model that can predict the price of houses based on these features.\n",
    "\n",
    "### 📁 Dataset Columns:\n",
    "- `SquareFeet`: Size of the house\n",
    "- `Bedrooms`: Number of bedrooms\n",
    "- `Price`: Price of the house (missing in test data)\n",
    "- `Split`: Indicates whether the row is part of the training or testing data\n",
    "\n",
    "### 🎯 Objective:\n",
    "Train a regression model using the training data and generate predictions for the test data. Submit a CSV file with the test `Price` predictions.\n"
   ]
  },
  {
   "cell_type": "code",
   "execution_count": null,
   "id": "744f2f99",
   "metadata": {},
   "outputs": [],
   "source": [
    "\n",
    "import pandas as pd\n",
    "from sklearn.linear_model import LinearRegression\n",
    "\n",
    "# Load dataset\n",
    "df = pd.read_csv(\"house_prices_task1.csv\")\n",
    "\n",
    "# Split train and test\n",
    "train_df = df[df[\"Split\"] == \"train\"]\n",
    "test_df = df[df[\"Split\"] == \"test\"]\n",
    "\n",
    "X_train = train_df[[\"SquareFeet\", \"Bedrooms\"]]\n",
    "y_train = train_df[\"Price\"]\n",
    "X_test = test_df[[\"SquareFeet\", \"Bedrooms\"]]\n"
   ]
  },
  {
   "cell_type": "markdown",
   "id": "a85c9ee3",
   "metadata": {},
   "source": [
    "## 🔧 Train a Linear Regression Model"
   ]
  },
  {
   "cell_type": "code",
   "execution_count": null,
   "id": "4864ef16",
   "metadata": {},
   "outputs": [],
   "source": [
    "\n",
    "model = LinearRegression()\n",
    "model.fit(X_train, y_train)\n"
   ]
  },
  {
   "cell_type": "markdown",
   "id": "2e15c248",
   "metadata": {},
   "source": [
    "## 📈 Predict Test Data"
   ]
  },
  {
   "cell_type": "code",
   "execution_count": null,
   "id": "8a46fc57",
   "metadata": {},
   "outputs": [],
   "source": [
    "\n",
    "test_predictions = model.predict(X_test)\n",
    "\n",
    "# Create output DataFrame\n",
    "output_df = test_df.copy()\n",
    "output_df[\"Price\"] = test_predictions\n"
   ]
  },
  {
   "cell_type": "markdown",
   "id": "1aca65da",
   "metadata": {},
   "source": [
    "## 💾 Export Predictions"
   ]
  },
  {
   "cell_type": "code",
   "execution_count": null,
   "id": "39b71784",
   "metadata": {},
   "outputs": [],
   "source": [
    "\n",
    "output_df[[\"SquareFeet\", \"Bedrooms\", \"Price\"]].to_csv(\"task1_predictions.csv\", index=False)\n",
    "print(\"✅ Predictions saved to task1_predictions.csv\")\n"
   ]
  }
 ],
 "metadata": {},
 "nbformat": 4,
 "nbformat_minor": 5
}