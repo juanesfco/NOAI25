{
 "cells": [
  {
   "cell_type": "markdown",
   "id": "56aaaef3",
   "metadata": {},
   "source": [
    "# Task 0 Baseline Notebook: Simple classification Model\n",
    "\n",
    "Welcome to the Puerto Rico **National Olympiad of Artificial Intelligence 2025!**\n",
    "\n",
    "This test task is intended to help you familiarize yourself with the local Jupyter Notebooks platform. All tasks will be organized in a similar way, so familiarity with the environment is essential.\n",
    "\n",
    "---\n",
    "\n",
    "## Data\n",
    "\n",
    "- The dataset is quite simple:\n",
    "  You have a set of **images in the `eval_task0/` folder** that you need to classify into **6 classes**.\n",
    "- In the **`train_task0/`** folder there are representative examples of each class.\n",
    "\n",
    "---\n",
    "\n",
    "## Instructions \n",
    "\n",
    "- You must manually write your predictions in the file **`predictions_task0.csv`** and **upload it in the given Google Form**.\n",
    "- This task has **a small sample size**, which makes it possible to achieve an **ideal accuracy of 1.0**.\n",
    "- The real challenge is to achieve this in as few submissions as possible!\n",
    "\n",
    "---\n",
    "\n",
    "## Support and questions\n",
    "\n",
    "- You can ask any of the OiPR team members questions about this task."
   ]
  },
  {
   "cell_type": "markdown",
   "id": "a73b45e2",
   "metadata": {},
   "source": [
    "## Step 1: Open the training images"
   ]
  },
  {
   "cell_type": "code",
   "execution_count": null,
   "id": "50c572dd",
   "metadata": {
    "_cell_guid": "b1076dfc-b9ad-4769-8c92-a6c4dae69d19",
    "_uuid": "8f2839f25d086af736a60e9eeb907d3b93b6e0e5",
    "papermill": {
     "duration": 2.118572,
     "end_time": "2025-05-05T17:06:08.737379",
     "exception": false,
     "start_time": "2025-05-05T17:06:06.618807",
     "status": "completed"
    },
    "tags": []
   },
   "outputs": [],
   "source": [
    "from pathlib import Path\n",
    "from PIL import Image\n",
    "import matplotlib.pyplot as plt\n",
    "\n",
    "# Path to the folder with train images\n",
    "train_dir = Path('train_task0')\n",
    "\n",
    "train_image_paths = sorted(train_dir.glob('*.jpg'))\n",
    "\n",
    "# Display a 2x3 grid of images\n",
    "fig, axes = plt.subplots(2, 3, figsize=(12, 8))\n",
    "axes = axes.flatten()\n",
    "\n",
    "for ax, path in zip(axes, train_image_paths[:6]):\n",
    "    img = Image.open(path)\n",
    "    ax.imshow(img)\n",
    "    ax.set_title(path.name)\n",
    "    ax.axis('off')\n",
    "\n",
    "plt.tight_layout()"
   ]
  },
  {
   "cell_type": "markdown",
   "id": "bcb6958b",
   "metadata": {},
   "source": [
    "## Step 2. Generate a random classification and create the **`predictions_task0.csv`** file."
   ]
  },
  {
   "cell_type": "code",
   "execution_count": null,
   "id": "1ea33ed4",
   "metadata": {
    "papermill": {
     "duration": 2.125501,
     "end_time": "2025-05-05T17:06:10.908589",
     "exception": false,
     "start_time": "2025-05-05T17:06:08.783088",
     "status": "completed"
    },
    "tags": []
   },
   "outputs": [],
   "source": [
    "import pandas as pd\n",
    "import numpy as np\n",
    "\n",
    "# Path to the folder with eval images\n",
    "eval_dir = Path('eval_task0')\n",
    "eval_image_paths = sorted(eval_dir.glob('*.jpg'))\n",
    "\n",
    "# Create a DataFrame with random predictions\n",
    "n_samples = len(eval_image_paths)\n",
    "predictions = pd.DataFrame({\n",
    "    'id': [str(int(path.name[-6:-4])) for path in eval_image_paths],\n",
    "    'label': np.random.randint(0, 6, n_samples)  # Random labels\n",
    "})\n",
    "\n",
    "# Save the predictions to a CSV file\n",
    "predictions.to_csv('predictions_task0.csv', index=False)\n"
   ]
  },
  {
   "cell_type": "markdown",
   "id": "760a2ad8",
   "metadata": {},
   "source": [
    "## Step 3. Verify F1 score with that random classification"
   ]
  },
  {
   "cell_type": "code",
   "execution_count": null,
   "id": "8ba12610",
   "metadata": {},
   "outputs": [],
   "source": [
    "import sys\n",
    "sys.path.append('../otros')\n",
    "from calcf1 import evaluate_f1\n",
    "\n",
    "# Evaluate F1 score\n",
    "f1_score = evaluate_f1('predictions_task0.csv')\n",
    "print(f\"F1 Score: {f1_score:.4f}\")"
   ]
  },
  {
   "cell_type": "markdown",
   "id": "20973aea",
   "metadata": {},
   "source": [
    "## Step 4. Go to **`predictions_task0.csv`** file and manually assign classification labels. Save the file then run Step 3 again to check if you obtained a better score."
   ]
  }
 ],
 "metadata": {
  "kaggle": {
   "accelerator": "none",
   "dataSources": [
    {
     "databundleVersionId": 11545939,
     "sourceId": 96996,
     "sourceType": "competition"
    }
   ],
   "dockerImageVersionId": 31012,
   "isGpuEnabled": false,
   "isInternetEnabled": false,
   "language": "python",
   "sourceType": "notebook"
  },
  "kernelspec": {
   "display_name": "Python 3",
   "language": "python",
   "name": "python3"
  },
  "language_info": {
   "codemirror_mode": {
    "name": "ipython",
    "version": 3
   },
   "file_extension": ".py",
   "mimetype": "text/x-python",
   "name": "python",
   "nbconvert_exporter": "python",
   "pygments_lexer": "ipython3",
   "version": "3.12.10"
  },
  "papermill": {
   "default_parameters": {},
   "duration": 9.890174,
   "end_time": "2025-05-05T17:06:11.561560",
   "environment_variables": {},
   "exception": null,
   "input_path": "__notebook__.ipynb",
   "output_path": "__notebook__.ipynb",
   "parameters": {},
   "start_time": "2025-05-05T17:06:01.671386",
   "version": "2.6.0"
  }
 },
 "nbformat": 4,
 "nbformat_minor": 5
}
