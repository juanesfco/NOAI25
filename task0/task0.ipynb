{
 "cells": [
  {
   "cell_type": "markdown",
   "id": "56aaaef3",
   "metadata": {},
   "source": [
    "# Task 0 Baseline Notebook: Simple classification Model\n",
    "\n",
    "Welcome to the Puerto Rico **National Olympiad of Artificial Intelligence 2025!**\n",
    "\n",
    "This test task is intended to help you familiarize yourself with the local Jupyter Notebooks platform. All tasks will be organized in a similar way, so familiarity with the environment is essential.\n",
    "\n",
    "---\n",
    "\n",
    "## Data\n",
    "\n",
    "- The dataset is quite simple:\n",
    "  You have a set of **images in the `test/` folder** that you need to classify into **6 classes**.\n",
    "- In the **`train/`** folder there are representative examples of each class.\n",
    "\n",
    "---\n",
    "\n",
    "## Instructions \n",
    "\n",
    "- You must write your predictions in the file **`submission.csv`** and **upload it in the respective Google Form**. You can use the example called **`sample_submission.csv`**.\n",
    "- This task has **a small sample size**, which makes it possible to achieve an **ideal accuracy of 1.0**.\n",
    "- The real challenge is to achieve this in as few submissions as possible!\n",
    "\n",
    "---\n",
    "\n",
    "## Support and questions\n",
    "\n",
    "- You can ask any of the OiPR team members questions about this task."
   ]
  },
  {
   "cell_type": "code",
   "execution_count": null,
   "id": "50c572dd",
   "metadata": {
    "_cell_guid": "b1076dfc-b9ad-4769-8c92-a6c4dae69d19",
    "_uuid": "8f2839f25d086af736a60e9eeb907d3b93b6e0e5",
    "papermill": {
     "duration": 2.118572,
     "end_time": "2025-05-05T17:06:08.737379",
     "exception": false,
     "start_time": "2025-05-05T17:06:06.618807",
     "status": "completed"
    },
    "tags": []
   },
   "outputs": [],
   "source": [
    "from pathlib import Path\n",
    "from PIL import Image\n",
    "import matplotlib.pyplot as plt\n",
    "\n",
    "# Path to the folder with images\n",
    "train_dir = Path('train')\n",
    "\n",
    "image_paths = sorted(train_dir.glob('*.jpg'))\n",
    "\n",
    "for path in image_paths[:6]:\n",
    "    img = Image.open(path)\n",
    "    plt.imshow(img)\n",
    "    plt.title(path.name)\n",
    "    plt.axis('off')\n",
    "    plt.show()"
   ]
  },
  {
   "cell_type": "code",
   "execution_count": null,
   "id": "1ea33ed4",
   "metadata": {
    "papermill": {
     "duration": 2.125501,
     "end_time": "2025-05-05T17:06:10.908589",
     "exception": false,
     "start_time": "2025-05-05T17:06:08.783088",
     "status": "completed"
    },
    "tags": []
   },
   "outputs": [],
   "source": [
    "import pandas as pd\n",
    "import numpy as np\n",
    "\n",
    "# Reading the submission template\n",
    "sub = pd.read_csv('sample_submission.csv')\n",
    "print('✔️ sample_submission.csv leído. Size:', sub.shape)\n",
    "\n",
    "sub.head()"
   ]
  },
  {
   "cell_type": "code",
   "execution_count": null,
   "id": "06cd7258",
   "metadata": {
    "papermill": {
     "duration": 0.056768,
     "end_time": "2025-05-05T17:06:11.003729",
     "exception": false,
     "start_time": "2025-05-05T17:06:10.946961",
     "status": "completed"
    },
    "tags": []
   },
   "outputs": [],
   "source": [
    "random_values = np.random.randint(0, 6, size=sub.iloc[:, 1:].shape)\n",
    "sub.iloc[:, 1:] = random_values\n",
    "\n",
    "sub.to_csv('submission.csv', index=False)\n",
    "print('submission.csv Saved - can be sent or downloaded.')"
   ]
  }
 ],
 "metadata": {
  "kaggle": {
   "accelerator": "none",
   "dataSources": [
    {
     "databundleVersionId": 11545939,
     "sourceId": 96996,
     "sourceType": "competition"
    }
   ],
   "dockerImageVersionId": 31012,
   "isGpuEnabled": false,
   "isInternetEnabled": false,
   "language": "python",
   "sourceType": "notebook"
  },
  "kernelspec": {
   "display_name": "Python 3 (ipykernel)",
   "language": "python",
   "name": "python3"
  },
  "language_info": {
   "codemirror_mode": {
    "name": "ipython",
    "version": 3
   },
   "file_extension": ".py",
   "mimetype": "text/x-python",
   "name": "python",
   "nbconvert_exporter": "python",
   "pygments_lexer": "ipython3",
   "version": "3.9.7"
  },
  "papermill": {
   "default_parameters": {},
   "duration": 9.890174,
   "end_time": "2025-05-05T17:06:11.561560",
   "environment_variables": {},
   "exception": null,
   "input_path": "__notebook__.ipynb",
   "output_path": "__notebook__.ipynb",
   "parameters": {},
   "start_time": "2025-05-05T17:06:01.671386",
   "version": "2.6.0"
  }
 },
 "nbformat": 4,
 "nbformat_minor": 5
}
