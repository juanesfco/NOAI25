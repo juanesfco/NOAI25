{
 "cells": [
  {
   "cell_type": "markdown",
   "id": "e89af6e4",
   "metadata": {},
   "source": [
    "# Generate Data"
   ]
  },
  {
   "cell_type": "code",
   "execution_count": 41,
   "id": "d9b25c71",
   "metadata": {},
   "outputs": [],
   "source": [
    "# Re-run everything after code execution environment reset\n",
    "import numpy as np\n",
    "import pandas as pd\n",
    "from sklearn.model_selection import train_test_split\n",
    "\n",
    "np.random.seed(42)\n",
    "\n",
    "# Create all data\n",
    "n_train = 150\n",
    "n_eval = 75\n",
    "X_all = np.random.normal(0, 10, (n_train+n_eval, 3))\n",
    "\n",
    "# Separate training and evaluation data\n",
    "X_train, X_eval = train_test_split(X_all, test_size=1/3, random_state=42)\n",
    "\n",
    "# New target function: nonlinear (sin and exp) with more noise\n",
    "y_train = (\n",
    "    np.sin(X_train[:, 0]) +\n",
    "    np.exp(-X_train[:, 1]**2) +\n",
    "    0.5 * X_train[:, 2] +\n",
    "    np.random.normal(0, 10, n_train)  # increased noise\n",
    ")\n",
    "\n",
    "train_df = pd.DataFrame(X_train, columns=['feature_1', 'feature_2', 'feature_3'])\n",
    "train_df['target'] = y_train\n",
    "train_df.to_csv(\"train_task1.csv\", index=False)\n",
    "\n",
    "# Create new evaluation data\n",
    "y_eval = (\n",
    "    np.sin(X_eval[:, 0]) +\n",
    "    np.exp(-X_eval[:, 1]**2) +\n",
    "    0.5 * X_eval[:, 2]\n",
    ")\n",
    "\n",
    "eval_df = pd.DataFrame(X_eval, columns=['feature_1', 'feature_2', 'feature_3'])\n",
    "eval_df.insert(0, 'id', np.arange(1, n_eval + 1))\n",
    "eval_df.to_csv(\"eval_task1.csv\", index=False)\n",
    "\n",
    "# Save ground-truth targets for evaluation\n",
    "true_eval_df = pd.DataFrame({\n",
    "    'id': np.arange(1, n_eval + 1),\n",
    "    'eval_target': y_eval\n",
    "})\n",
    "true_eval_df.to_csv(\"eval_true_targets_task1.csv\", index=False)"
   ]
  },
  {
   "cell_type": "markdown",
   "id": "fe7de774",
   "metadata": {},
   "source": [
    "# Evaluate Data"
   ]
  },
  {
   "cell_type": "code",
   "execution_count": 42,
   "id": "427ab6d5",
   "metadata": {},
   "outputs": [
    {
     "name": "stdout",
     "output_type": "stream",
     "text": [
      "Mean Squared Error: 1.9821\n"
     ]
    }
   ],
   "source": [
    "import pandas as pd\n",
    "from sklearn.metrics import mean_squared_error\n",
    "\n",
    "# Load predictions from the students and the ground truth\n",
    "pred_df = pd.read_csv(\"predictions_task1.csv\")  # submitted file\n",
    "eval_df = pd.read_csv(\"eval_true_targets_task1.csv\")  # private ground truth\n",
    "\n",
    "# Merge both dataframes on the 'id' column to align rows\n",
    "merged_df = pd.merge(pred_df, eval_df, on='id')\n",
    "\n",
    "# Compute Mean Squared Error\n",
    "mse = mean_squared_error(merged_df['eval_target'], merged_df['prediction'])\n",
    "print(f\"Mean Squared Error: {mse:.4f}\")"
   ]
  },
  {
   "cell_type": "code",
   "execution_count": null,
   "id": "04d2c3c5",
   "metadata": {},
   "outputs": [],
   "source": []
  }
 ],
 "metadata": {
  "kernelspec": {
   "display_name": "Python 3",
   "language": "python",
   "name": "python3"
  },
  "language_info": {
   "codemirror_mode": {
    "name": "ipython",
    "version": 3
   },
   "file_extension": ".py",
   "mimetype": "text/x-python",
   "name": "python",
   "nbconvert_exporter": "python",
   "pygments_lexer": "ipython3",
   "version": "3.12.10"
  }
 },
 "nbformat": 4,
 "nbformat_minor": 5
}
