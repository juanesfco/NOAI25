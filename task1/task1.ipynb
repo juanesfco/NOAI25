{
 "cells": [
  {
   "cell_type": "markdown",
   "id": "5a33f8a4",
   "metadata": {},
   "source": [
    "# Task 1 Baseline Notebook: Simple Regression Model\n",
    "\n",
    "Welcome to the **Puerto Rico National Olympiad of Artificial Intelligence 2025**!\n",
    "\n",
    "In this task, your goal is to **predict a continuous variable (target)** based on three input features using **supervised machine learning**.\n",
    "\n",
    "- You are given:\n",
    "  - `task1.ipynb`: a baseline jupyter notebook (Python) that serves as a starting point to solve the task.\n",
    "  - `train_task1.csv`: a dataset of 150 entries with 3 features and the corresponding target value.\n",
    "  - `eval_task1.csv`: a dataset of 75 entries with the same 3 features, but without the target. Each row has a unique `id`.\n",
    "- Your task is to:\n",
    "  1. **Train a regression model** using the training dataset.\n",
    "  2. **Predict the target values** for the evaluation dataset.\n",
    "  3. **Export your predictions** to a CSV file with two columns: `id` and `prediction`.\n",
    "\n",
    "You will **submit your predictions**, and the organizers will evaluate how close they are to the real (hidden) targets using the **Mean Squared Error (MSE)** metric.\n"
   ]
  },
  {
   "cell_type": "code",
   "execution_count": null,
   "id": "193a7c75",
   "metadata": {},
   "outputs": [],
   "source": [
    "import pandas as pd\n",
    "\n",
    "# Load training data (features and target)\n",
    "train_df = pd.read_csv(\"train_task1.csv\")\n",
    "print(\"Training data:\")\n",
    "display(train_df)\n",
    "\n",
    "# Load test data (features only)\n",
    "eval_df = pd.read_csv(\"eval_task1.csv\")\n",
    "print(\"\\nEvaluation data:\")\n",
    "display(eval_df)"
   ]
  },
  {
   "cell_type": "markdown",
   "id": "e23de968",
   "metadata": {},
   "source": [
    "\n",
    "## Step 1: Prepare the data\n",
    "\n",
    "We'll separate the features and the target for training.  \n",
    "The evaluation data only has features and an ID — we'll use those features to predict the target.\n"
   ]
  },
  {
   "cell_type": "code",
   "execution_count": null,
   "id": "fa5f9b50",
   "metadata": {},
   "outputs": [],
   "source": [
    "# Separate features and target\n",
    "X_train_full = train_df[['feature_1', 'feature_2', 'feature_3']]\n",
    "y_train_full = train_df['target']\n",
    "\n",
    "# Extract test features and IDs\n",
    "X_eval = eval_df[['feature_1', 'feature_2', 'feature_3']]\n",
    "eval_ids = eval_df['id']"
   ]
  },
  {
   "cell_type": "markdown",
   "id": "758305f3",
   "metadata": {},
   "source": [
    "## Step 2: Evaluate your model before submitting\n",
    "\n",
    "Before using the evaluation dataset, let's split our training data into a smaller training set and a validation set.\n",
    "This helps us understand how well the model might perform on unseen data — just like in the real evaluation.\n",
    "\n",
    "We'll use **Linear Regression**, a common starting point in machine learning and we will use **80% for training** and **20% for testing**.\n",
    "\n",
    "----\n",
    "**Stop here**\n",
    "\n",
    "The procedure below creates a very simple model that will not generate the best results. If you want to improve your score try some of the following ideas:\n",
    "- Try more powerful models like `RandomForestRegressor`, `GradientBoostingRegressor`, or `SVR`. See [Machine Learning Map](https://scikit-learn.org/stable/machine_learning_map.html).\n",
    "- Use feature transformations like polynomial features or normalization. See [Dataset Transformations](https://scikit-learn.org/stable/data_transforms.html).\n",
    "- Tune model hyperparameters. For this see the documentation for each model.\n",
    "---"
   ]
  },
  {
   "cell_type": "code",
   "execution_count": null,
   "id": "8deb1b0a",
   "metadata": {},
   "outputs": [],
   "source": [
    "from sklearn.linear_model import LinearRegression\n",
    "from sklearn.model_selection import train_test_split\n",
    "from sklearn.metrics import mean_squared_error\n",
    "\n",
    "# Split the original training data\n",
    "X_train, X_test, y_train, y_test= train_test_split(X_train_full, y_train_full, test_size=0.2, random_state=42)\n",
    "\n",
    "# Train the model on training subset\n",
    "model = LinearRegression()\n",
    "model.fit(X_train, y_train)\n",
    "\n",
    "# Predict and evaluate on the validation set\n",
    "y_test_pred = model.predict(X_test)\n",
    "test_mse = mean_squared_error(y_test, y_test_pred)\n",
    "print(f\"Test MSE: {test_mse:.4f}\")"
   ]
  },
  {
   "cell_type": "markdown",
   "id": "deec5161",
   "metadata": {},
   "source": [
    "## Step 3: Train your model again with all the data"
   ]
  },
  {
   "cell_type": "code",
   "execution_count": null,
   "id": "b143a792",
   "metadata": {},
   "outputs": [],
   "source": [
    "# Train the model\n",
    "model.fit(X_train_full, y_train_full)"
   ]
  },
  {
   "cell_type": "markdown",
   "id": "e5fa063c",
   "metadata": {},
   "source": [
    "\n",
    "## Step 3: Make predictions on the evaluation data\n"
   ]
  },
  {
   "cell_type": "code",
   "execution_count": null,
   "id": "8c68a4b4",
   "metadata": {},
   "outputs": [],
   "source": [
    "# Predict using the trained model\n",
    "y_eval_pred = model.predict(X_eval)"
   ]
  },
  {
   "cell_type": "markdown",
   "id": "3d3ec9f9",
   "metadata": {},
   "source": [
    "\n",
    "## Step 4: Save predictions to a CSV file\n",
    "\n",
    "We create a new DataFrame with the `id` and your model's predictions, then save it.  \n",
    "Make sure your file is named `predictions_task1.csv` for submission!\n"
   ]
  },
  {
   "cell_type": "code",
   "execution_count": null,
   "id": "8efc07d3",
   "metadata": {},
   "outputs": [],
   "source": [
    "# Create submission DataFrame\n",
    "submission = pd.DataFrame({'id': eval_ids, 'prediction': y_eval_pred})\n",
    "\n",
    "# Save to CSV\n",
    "submission.to_csv(\"predictions_task1.csv\", index=False)\n",
    "print(\"Predictions saved to predictions_task1.csv!\")"
   ]
  }
 ],
 "metadata": {
  "kernelspec": {
   "display_name": "Python 3",
   "language": "python",
   "name": "python3"
  },
  "language_info": {
   "codemirror_mode": {
    "name": "ipython",
    "version": 3
   },
   "file_extension": ".py",
   "mimetype": "text/x-python",
   "name": "python",
   "nbconvert_exporter": "python",
   "pygments_lexer": "ipython3",
   "version": "3.12.10"
  }
 },
 "nbformat": 4,
 "nbformat_minor": 5
}
