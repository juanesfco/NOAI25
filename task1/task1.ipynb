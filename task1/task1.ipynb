{
 "cells": [
  {
   "cell_type": "markdown",
   "id": "5a33f8a4",
   "metadata": {},
   "source": [
    "# Task 1 Baseline Notebook: Simple Regression Model\n",
    "\n",
    "Welcome to the **Puerto Rico National Olympiad of Artificial Intelligence 2025**!\n",
    "\n",
    "In this task, your goal is to **predict a continuous variable (target)** based on three input features using **supervised machine learning**.\n",
    "\n",
    "- You are given:\n",
    "  - `task1.ipynb`: a baseline jupyter notebook (Python) that serves as a starting point to solve the task.\n",
    "  - `train_task1.csv`: a dataset of 150 entries with 3 features and the corresponding target value.\n",
    "  - `eval_task1.csv`: a dataset of 75 entries with the same 3 features, but without the target. Each row has a unique `id`.\n",
    "- Your task is to:\n",
    "  1. **Train a regression model** using the training dataset.\n",
    "  2. **Predict the target values** for the evaluation dataset.\n",
    "  3. **Export your predictions** to a CSV file with two columns: `id` and `prediction`.\n",
    "\n",
    "You will **submit your predictions**, and the organizers will evaluate how close they are to the real (hidden) targets using the **Mean Squared Error (MSE)** metric.\n"
   ]
  },
  {
   "cell_type": "code",
   "execution_count": 1,
   "id": "193a7c75",
   "metadata": {},
   "outputs": [
    {
     "name": "stdout",
     "output_type": "stream",
     "text": [
      "Training data:\n"
     ]
    },
    {
     "data": {
      "text/html": [
       "<div>\n",
       "<style scoped>\n",
       "    .dataframe tbody tr th:only-of-type {\n",
       "        vertical-align: middle;\n",
       "    }\n",
       "\n",
       "    .dataframe tbody tr th {\n",
       "        vertical-align: top;\n",
       "    }\n",
       "\n",
       "    .dataframe thead th {\n",
       "        text-align: right;\n",
       "    }\n",
       "</style>\n",
       "<table border=\"1\" class=\"dataframe\">\n",
       "  <thead>\n",
       "    <tr style=\"text-align: right;\">\n",
       "      <th></th>\n",
       "      <th>feature_1</th>\n",
       "      <th>feature_2</th>\n",
       "      <th>feature_3</th>\n",
       "      <th>target</th>\n",
       "    </tr>\n",
       "  </thead>\n",
       "  <tbody>\n",
       "    <tr>\n",
       "      <th>0</th>\n",
       "      <td>10.915069</td>\n",
       "      <td>12.460852</td>\n",
       "      <td>-20.733902</td>\n",
       "      <td>-19.141879</td>\n",
       "    </tr>\n",
       "    <tr>\n",
       "      <th>1</th>\n",
       "      <td>-3.276621</td>\n",
       "      <td>-3.921082</td>\n",
       "      <td>-14.635149</td>\n",
       "      <td>-18.288714</td>\n",
       "    </tr>\n",
       "    <tr>\n",
       "      <th>2</th>\n",
       "      <td>2.088636</td>\n",
       "      <td>-19.596701</td>\n",
       "      <td>-13.281860</td>\n",
       "      <td>11.750665</td>\n",
       "    </tr>\n",
       "    <tr>\n",
       "      <th>3</th>\n",
       "      <td>4.040509</td>\n",
       "      <td>18.861859</td>\n",
       "      <td>1.745778</td>\n",
       "      <td>9.447020</td>\n",
       "    </tr>\n",
       "    <tr>\n",
       "      <th>4</th>\n",
       "      <td>-8.084936</td>\n",
       "      <td>-5.017570</td>\n",
       "      <td>9.154021</td>\n",
       "      <td>16.319113</td>\n",
       "    </tr>\n",
       "    <tr>\n",
       "      <th>...</th>\n",
       "      <td>...</td>\n",
       "      <td>...</td>\n",
       "      <td>...</td>\n",
       "      <td>...</td>\n",
       "    </tr>\n",
       "    <tr>\n",
       "      <th>145</th>\n",
       "      <td>3.241664</td>\n",
       "      <td>-1.301431</td>\n",
       "      <td>0.969960</td>\n",
       "      <td>-4.603974</td>\n",
       "    </tr>\n",
       "    <tr>\n",
       "      <th>146</th>\n",
       "      <td>-1.156483</td>\n",
       "      <td>-3.011037</td>\n",
       "      <td>-14.785220</td>\n",
       "      <td>5.785587</td>\n",
       "    </tr>\n",
       "    <tr>\n",
       "      <th>147</th>\n",
       "      <td>1.990597</td>\n",
       "      <td>-6.002169</td>\n",
       "      <td>0.698021</td>\n",
       "      <td>24.251162</td>\n",
       "    </tr>\n",
       "    <tr>\n",
       "      <th>148</th>\n",
       "      <td>-3.845555</td>\n",
       "      <td>10.062928</td>\n",
       "      <td>-5.768919</td>\n",
       "      <td>-5.865601</td>\n",
       "    </tr>\n",
       "    <tr>\n",
       "      <th>149</th>\n",
       "      <td>12.776649</td>\n",
       "      <td>-5.915714</td>\n",
       "      <td>5.470974</td>\n",
       "      <td>-1.510806</td>\n",
       "    </tr>\n",
       "  </tbody>\n",
       "</table>\n",
       "<p>150 rows × 4 columns</p>\n",
       "</div>"
      ],
      "text/plain": [
       "     feature_1  feature_2  feature_3     target\n",
       "0    10.915069  12.460852 -20.733902 -19.141879\n",
       "1    -3.276621  -3.921082 -14.635149 -18.288714\n",
       "2     2.088636 -19.596701 -13.281860  11.750665\n",
       "3     4.040509  18.861859   1.745778   9.447020\n",
       "4    -8.084936  -5.017570   9.154021  16.319113\n",
       "..         ...        ...        ...        ...\n",
       "145   3.241664  -1.301431   0.969960  -4.603974\n",
       "146  -1.156483  -3.011037 -14.785220   5.785587\n",
       "147   1.990597  -6.002169   0.698021  24.251162\n",
       "148  -3.845555  10.062928  -5.768919  -5.865601\n",
       "149  12.776649  -5.915714   5.470974  -1.510806\n",
       "\n",
       "[150 rows x 4 columns]"
      ]
     },
     "metadata": {},
     "output_type": "display_data"
    },
    {
     "name": "stdout",
     "output_type": "stream",
     "text": [
      "\n",
      "Evaluation data:\n"
     ]
    },
    {
     "data": {
      "text/html": [
       "<div>\n",
       "<style scoped>\n",
       "    .dataframe tbody tr th:only-of-type {\n",
       "        vertical-align: middle;\n",
       "    }\n",
       "\n",
       "    .dataframe tbody tr th {\n",
       "        vertical-align: top;\n",
       "    }\n",
       "\n",
       "    .dataframe thead th {\n",
       "        text-align: right;\n",
       "    }\n",
       "</style>\n",
       "<table border=\"1\" class=\"dataframe\">\n",
       "  <thead>\n",
       "    <tr style=\"text-align: right;\">\n",
       "      <th></th>\n",
       "      <th>id</th>\n",
       "      <th>feature_1</th>\n",
       "      <th>feature_2</th>\n",
       "      <th>feature_3</th>\n",
       "    </tr>\n",
       "  </thead>\n",
       "  <tbody>\n",
       "    <tr>\n",
       "      <th>0</th>\n",
       "      <td>1</td>\n",
       "      <td>3.756980</td>\n",
       "      <td>-6.006387</td>\n",
       "      <td>-2.916937</td>\n",
       "    </tr>\n",
       "    <tr>\n",
       "      <th>1</th>\n",
       "      <td>2</td>\n",
       "      <td>11.677821</td>\n",
       "      <td>2.544208</td>\n",
       "      <td>3.376027</td>\n",
       "    </tr>\n",
       "    <tr>\n",
       "      <th>2</th>\n",
       "      <td>3</td>\n",
       "      <td>5.193465</td>\n",
       "      <td>15.327389</td>\n",
       "      <td>-1.087601</td>\n",
       "    </tr>\n",
       "    <tr>\n",
       "      <th>3</th>\n",
       "      <td>4</td>\n",
       "      <td>4.714684</td>\n",
       "      <td>18.820245</td>\n",
       "      <td>13.454200</td>\n",
       "    </tr>\n",
       "    <tr>\n",
       "      <th>4</th>\n",
       "      <td>5</td>\n",
       "      <td>-13.044695</td>\n",
       "      <td>6.696725</td>\n",
       "      <td>3.665982</td>\n",
       "    </tr>\n",
       "    <tr>\n",
       "      <th>...</th>\n",
       "      <td>...</td>\n",
       "      <td>...</td>\n",
       "      <td>...</td>\n",
       "      <td>...</td>\n",
       "    </tr>\n",
       "    <tr>\n",
       "      <th>70</th>\n",
       "      <td>71</td>\n",
       "      <td>-11.246421</td>\n",
       "      <td>-15.341142</td>\n",
       "      <td>12.776768</td>\n",
       "    </tr>\n",
       "    <tr>\n",
       "      <th>71</th>\n",
       "      <td>72</td>\n",
       "      <td>6.228499</td>\n",
       "      <td>-10.676204</td>\n",
       "      <td>-1.423795</td>\n",
       "    </tr>\n",
       "    <tr>\n",
       "      <th>72</th>\n",
       "      <td>73</td>\n",
       "      <td>3.853174</td>\n",
       "      <td>-8.838574</td>\n",
       "      <td>1.537251</td>\n",
       "    </tr>\n",
       "    <tr>\n",
       "      <th>73</th>\n",
       "      <td>74</td>\n",
       "      <td>20.607479</td>\n",
       "      <td>17.553408</td>\n",
       "      <td>-2.489641</td>\n",
       "    </tr>\n",
       "    <tr>\n",
       "      <th>74</th>\n",
       "      <td>75</td>\n",
       "      <td>0.184184</td>\n",
       "      <td>16.764373</td>\n",
       "      <td>3.269274</td>\n",
       "    </tr>\n",
       "  </tbody>\n",
       "</table>\n",
       "<p>75 rows × 4 columns</p>\n",
       "</div>"
      ],
      "text/plain": [
       "    id  feature_1  feature_2  feature_3\n",
       "0    1   3.756980  -6.006387  -2.916937\n",
       "1    2  11.677821   2.544208   3.376027\n",
       "2    3   5.193465  15.327389  -1.087601\n",
       "3    4   4.714684  18.820245  13.454200\n",
       "4    5 -13.044695   6.696725   3.665982\n",
       "..  ..        ...        ...        ...\n",
       "70  71 -11.246421 -15.341142  12.776768\n",
       "71  72   6.228499 -10.676204  -1.423795\n",
       "72  73   3.853174  -8.838574   1.537251\n",
       "73  74  20.607479  17.553408  -2.489641\n",
       "74  75   0.184184  16.764373   3.269274\n",
       "\n",
       "[75 rows x 4 columns]"
      ]
     },
     "metadata": {},
     "output_type": "display_data"
    }
   ],
   "source": [
    "import pandas as pd\n",
    "\n",
    "# Load training data (features and target)\n",
    "train_df = pd.read_csv(\"train_task1.csv\")\n",
    "print(\"Training data:\")\n",
    "display(train_df)\n",
    "\n",
    "# Load test data (features only)\n",
    "eval_df = pd.read_csv(\"eval_task1.csv\")\n",
    "print(\"\\nEvaluation data:\")\n",
    "display(eval_df)"
   ]
  },
  {
   "cell_type": "markdown",
   "id": "e23de968",
   "metadata": {},
   "source": [
    "\n",
    "## Step 1: Prepare the data\n",
    "\n",
    "We'll separate the features and the target for training.  \n",
    "The evaluation data only has features and an ID — we'll use those features to predict the target.\n"
   ]
  },
  {
   "cell_type": "code",
   "execution_count": 2,
   "id": "fa5f9b50",
   "metadata": {},
   "outputs": [],
   "source": [
    "# Separate features and target\n",
    "X_train_full = train_df[['feature_1', 'feature_2', 'feature_3']]\n",
    "y_train_full = train_df['target']\n",
    "\n",
    "# Extract test features and IDs\n",
    "X_eval = eval_df[['feature_1', 'feature_2', 'feature_3']]\n",
    "eval_ids = eval_df['id']"
   ]
  },
  {
   "cell_type": "markdown",
   "id": "758305f3",
   "metadata": {},
   "source": [
    "## Step 2: Evaluate your model before submitting\n",
    "\n",
    "Before using the evaluation dataset, let's split our training data into a smaller training set and a validation set.\n",
    "This helps us understand how well the model might perform on unseen data — just like in the real evaluation.\n",
    "\n",
    "We'll use **Linear Regression**, a common starting point in machine learning and we will use **80% for training** and **20% for testing**.\n",
    "\n",
    "----\n",
    "**Stop here**\n",
    "\n",
    "The procedure below creates a very simple model that will not generate the best results. If you want to improve your score try some of the following ideas:\n",
    "- Try more powerful models like `RandomForestRegressor`, `GradientBoostingRegressor`, or `SVR`. See [Machine Learning Map](https://scikit-learn.org/stable/machine_learning_map.html).\n",
    "- Use feature transformations like polynomial features or normalization. See [Dataset Transformations](https://scikit-learn.org/stable/data_transforms.html).\n",
    "- Tune model hyperparameters. For this see the documentation for each model.\n",
    "---"
   ]
  },
  {
   "cell_type": "code",
   "execution_count": 29,
   "id": "8deb1b0a",
   "metadata": {},
   "outputs": [
    {
     "name": "stdout",
     "output_type": "stream",
     "text": [
      "Test MSE: 56.2337\n"
     ]
    }
   ],
   "source": [
    "from sklearn.linear_model import LinearRegression\n",
    "from sklearn.model_selection import train_test_split\n",
    "from sklearn.metrics import mean_squared_error\n",
    "\n",
    "# Split the original training data\n",
    "X_train, X_test, y_train, y_test= train_test_split(X_train_full, y_train_full, test_size=0.2, random_state=42)\n",
    "\n",
    "# Train the model on training subset\n",
    "model = LinearRegression()\n",
    "model.fit(X_train, y_train)\n",
    "\n",
    "# Predict and evaluate on the validation set\n",
    "y_test_pred = model.predict(X_test)\n",
    "test_mse = mean_squared_error(y_test, y_test_pred)\n",
    "print(f\"Test MSE: {test_mse:.4f}\")"
   ]
  },
  {
   "cell_type": "markdown",
   "id": "deec5161",
   "metadata": {},
   "source": [
    "## Step 3: Train your model again with all the data"
   ]
  },
  {
   "cell_type": "code",
   "execution_count": 15,
   "id": "b143a792",
   "metadata": {},
   "outputs": [
    {
     "data": {
      "text/html": [
       "<style>#sk-container-id-2 {color: black;}#sk-container-id-2 pre{padding: 0;}#sk-container-id-2 div.sk-toggleable {background-color: white;}#sk-container-id-2 label.sk-toggleable__label {cursor: pointer;display: block;width: 100%;margin-bottom: 0;padding: 0.3em;box-sizing: border-box;text-align: center;}#sk-container-id-2 label.sk-toggleable__label-arrow:before {content: \"▸\";float: left;margin-right: 0.25em;color: #696969;}#sk-container-id-2 label.sk-toggleable__label-arrow:hover:before {color: black;}#sk-container-id-2 div.sk-estimator:hover label.sk-toggleable__label-arrow:before {color: black;}#sk-container-id-2 div.sk-toggleable__content {max-height: 0;max-width: 0;overflow: hidden;text-align: left;background-color: #f0f8ff;}#sk-container-id-2 div.sk-toggleable__content pre {margin: 0.2em;color: black;border-radius: 0.25em;background-color: #f0f8ff;}#sk-container-id-2 input.sk-toggleable__control:checked~div.sk-toggleable__content {max-height: 200px;max-width: 100%;overflow: auto;}#sk-container-id-2 input.sk-toggleable__control:checked~label.sk-toggleable__label-arrow:before {content: \"▾\";}#sk-container-id-2 div.sk-estimator input.sk-toggleable__control:checked~label.sk-toggleable__label {background-color: #d4ebff;}#sk-container-id-2 div.sk-label input.sk-toggleable__control:checked~label.sk-toggleable__label {background-color: #d4ebff;}#sk-container-id-2 input.sk-hidden--visually {border: 0;clip: rect(1px 1px 1px 1px);clip: rect(1px, 1px, 1px, 1px);height: 1px;margin: -1px;overflow: hidden;padding: 0;position: absolute;width: 1px;}#sk-container-id-2 div.sk-estimator {font-family: monospace;background-color: #f0f8ff;border: 1px dotted black;border-radius: 0.25em;box-sizing: border-box;margin-bottom: 0.5em;}#sk-container-id-2 div.sk-estimator:hover {background-color: #d4ebff;}#sk-container-id-2 div.sk-parallel-item::after {content: \"\";width: 100%;border-bottom: 1px solid gray;flex-grow: 1;}#sk-container-id-2 div.sk-label:hover label.sk-toggleable__label {background-color: #d4ebff;}#sk-container-id-2 div.sk-serial::before {content: \"\";position: absolute;border-left: 1px solid gray;box-sizing: border-box;top: 0;bottom: 0;left: 50%;z-index: 0;}#sk-container-id-2 div.sk-serial {display: flex;flex-direction: column;align-items: center;background-color: white;padding-right: 0.2em;padding-left: 0.2em;position: relative;}#sk-container-id-2 div.sk-item {position: relative;z-index: 1;}#sk-container-id-2 div.sk-parallel {display: flex;align-items: stretch;justify-content: center;background-color: white;position: relative;}#sk-container-id-2 div.sk-item::before, #sk-container-id-2 div.sk-parallel-item::before {content: \"\";position: absolute;border-left: 1px solid gray;box-sizing: border-box;top: 0;bottom: 0;left: 50%;z-index: -1;}#sk-container-id-2 div.sk-parallel-item {display: flex;flex-direction: column;z-index: 1;position: relative;background-color: white;}#sk-container-id-2 div.sk-parallel-item:first-child::after {align-self: flex-end;width: 50%;}#sk-container-id-2 div.sk-parallel-item:last-child::after {align-self: flex-start;width: 50%;}#sk-container-id-2 div.sk-parallel-item:only-child::after {width: 0;}#sk-container-id-2 div.sk-dashed-wrapped {border: 1px dashed gray;margin: 0 0.4em 0.5em 0.4em;box-sizing: border-box;padding-bottom: 0.4em;background-color: white;}#sk-container-id-2 div.sk-label label {font-family: monospace;font-weight: bold;display: inline-block;line-height: 1.2em;}#sk-container-id-2 div.sk-label-container {text-align: center;}#sk-container-id-2 div.sk-container {/* jupyter's `normalize.less` sets `[hidden] { display: none; }` but bootstrap.min.css set `[hidden] { display: none !important; }` so we also need the `!important` here to be able to override the default hidden behavior on the sphinx rendered scikit-learn.org. See: https://github.com/scikit-learn/scikit-learn/issues/21755 */display: inline-block !important;position: relative;}#sk-container-id-2 div.sk-text-repr-fallback {display: none;}</style><div id=\"sk-container-id-2\" class=\"sk-top-container\"><div class=\"sk-text-repr-fallback\"><pre>KNeighborsRegressor()</pre><b>In a Jupyter environment, please rerun this cell to show the HTML representation or trust the notebook. <br />On GitHub, the HTML representation is unable to render, please try loading this page with nbviewer.org.</b></div><div class=\"sk-container\" hidden><div class=\"sk-item\"><div class=\"sk-estimator sk-toggleable\"><input class=\"sk-toggleable__control sk-hidden--visually\" id=\"sk-estimator-id-2\" type=\"checkbox\" checked><label for=\"sk-estimator-id-2\" class=\"sk-toggleable__label sk-toggleable__label-arrow\">KNeighborsRegressor</label><div class=\"sk-toggleable__content\"><pre>KNeighborsRegressor()</pre></div></div></div></div></div>"
      ],
      "text/plain": [
       "KNeighborsRegressor()"
      ]
     },
     "execution_count": 15,
     "metadata": {},
     "output_type": "execute_result"
    }
   ],
   "source": [
    "# Train the model\n",
    "model.fit(X_train_full, y_train_full)"
   ]
  },
  {
   "cell_type": "markdown",
   "id": "e5fa063c",
   "metadata": {},
   "source": [
    "\n",
    "## Step 3: Make predictions on the evaluation data\n"
   ]
  },
  {
   "cell_type": "code",
   "execution_count": 16,
   "id": "8c68a4b4",
   "metadata": {},
   "outputs": [],
   "source": [
    "# Predict using the trained model\n",
    "y_eval_pred = model.predict(X_eval)"
   ]
  },
  {
   "cell_type": "markdown",
   "id": "3d3ec9f9",
   "metadata": {},
   "source": [
    "\n",
    "## Step 4: Save predictions to a CSV file\n",
    "\n",
    "We create a new DataFrame with the `id` and your model's predictions, then save it.  \n",
    "Make sure your file is named `predictions_task1.csv` for submission!\n"
   ]
  },
  {
   "cell_type": "code",
   "execution_count": 17,
   "id": "8efc07d3",
   "metadata": {},
   "outputs": [
    {
     "name": "stdout",
     "output_type": "stream",
     "text": [
      "Predictions saved to predictions_task1.csv!\n"
     ]
    }
   ],
   "source": [
    "# Create submission DataFrame\n",
    "submission = pd.DataFrame({'id': eval_ids, 'prediction': y_eval_pred})\n",
    "\n",
    "# Save to CSV\n",
    "submission.to_csv(\"predictions_task1.csv\", index=False)\n",
    "print(\"Predictions saved to predictions_task1.csv!\")"
   ]
  }
 ],
 "metadata": {
  "kernelspec": {
   "display_name": "Python 3",
   "language": "python",
   "name": "python3"
  },
  "language_info": {
   "codemirror_mode": {
    "name": "ipython",
    "version": 3
   },
   "file_extension": ".py",
   "mimetype": "text/x-python",
   "name": "python",
   "nbconvert_exporter": "python",
   "pygments_lexer": "ipython3",
   "version": "3.12.10"
  }
 },
 "nbformat": 4,
 "nbformat_minor": 5
}
