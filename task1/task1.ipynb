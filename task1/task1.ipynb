{
 "cells": [
  {
   "cell_type": "markdown",
   "id": "5a33f8a4",
   "metadata": {},
   "source": [
    "\n",
    "# 🧠 Task 1 Baseline Notebook: Simple Regression Model\n",
    "\n",
    "Welcome to the **Puerto Rico National Olympiad of Artificial Intelligence 2025**! 🎯  \n",
    "In this task, your goal is to **predict a continuous variable (target)** based on three input features using **supervised machine learning**.\n",
    "\n",
    "## 📝 How the competition works\n",
    "\n",
    "- You are given:\n",
    "  - `task1.ipynb`: a baseline jupyter notebook (Python) that serves as a starting point to solve the task.\n",
    "  - `train.csv`: a dataset of 1,000 entries with 3 features and the corresponding target value.\n",
    "  - `eval.csv`: a dataset of 500 entries with the same 3 features, but without the target. Each row has a unique `id`.\n",
    "- Your task is to:\n",
    "  1. **Train a regression model** using the training dataset.\n",
    "  2. **Predict the target values** for the evaluation dataset.\n",
    "  3. **Export your predictions** to a CSV file with two columns: `id` and `prediction`.\n",
    "\n",
    "You will **submit your predictions**, and the organizers will evaluate how close they are to the real (hidden) targets using the **Mean Squared Error (MSE)** metric.\n"
   ]
  },
  {
   "cell_type": "code",
   "execution_count": 33,
   "id": "193a7c75",
   "metadata": {},
   "outputs": [
    {
     "name": "stdout",
     "output_type": "stream",
     "text": [
      "Training data:\n"
     ]
    },
    {
     "data": {
      "text/html": [
       "<div>\n",
       "<style scoped>\n",
       "    .dataframe tbody tr th:only-of-type {\n",
       "        vertical-align: middle;\n",
       "    }\n",
       "\n",
       "    .dataframe tbody tr th {\n",
       "        vertical-align: top;\n",
       "    }\n",
       "\n",
       "    .dataframe thead th {\n",
       "        text-align: right;\n",
       "    }\n",
       "</style>\n",
       "<table border=\"1\" class=\"dataframe\">\n",
       "  <thead>\n",
       "    <tr style=\"text-align: right;\">\n",
       "      <th></th>\n",
       "      <th>feature_1</th>\n",
       "      <th>feature_2</th>\n",
       "      <th>feature_3</th>\n",
       "      <th>target</th>\n",
       "    </tr>\n",
       "  </thead>\n",
       "  <tbody>\n",
       "    <tr>\n",
       "      <th>0</th>\n",
       "      <td>0.103526</td>\n",
       "      <td>-13.118362</td>\n",
       "      <td>-10.651137</td>\n",
       "      <td>-10.016119</td>\n",
       "    </tr>\n",
       "    <tr>\n",
       "      <th>1</th>\n",
       "      <td>-15.978721</td>\n",
       "      <td>-6.300250</td>\n",
       "      <td>7.319555</td>\n",
       "      <td>-2.835304</td>\n",
       "    </tr>\n",
       "    <tr>\n",
       "      <th>2</th>\n",
       "      <td>19.583475</td>\n",
       "      <td>-12.295496</td>\n",
       "      <td>4.966992</td>\n",
       "      <td>-4.764661</td>\n",
       "    </tr>\n",
       "    <tr>\n",
       "      <th>3</th>\n",
       "      <td>2.809919</td>\n",
       "      <td>-6.226995</td>\n",
       "      <td>-2.081223</td>\n",
       "      <td>1.350010</td>\n",
       "    </tr>\n",
       "    <tr>\n",
       "      <th>4</th>\n",
       "      <td>-6.540757</td>\n",
       "      <td>-18.306329</td>\n",
       "      <td>5.112026</td>\n",
       "      <td>1.230942</td>\n",
       "    </tr>\n",
       "    <tr>\n",
       "      <th>...</th>\n",
       "      <td>...</td>\n",
       "      <td>...</td>\n",
       "      <td>...</td>\n",
       "      <td>...</td>\n",
       "    </tr>\n",
       "    <tr>\n",
       "      <th>995</th>\n",
       "      <td>-15.769965</td>\n",
       "      <td>-8.028244</td>\n",
       "      <td>-0.739729</td>\n",
       "      <td>-6.686316</td>\n",
       "    </tr>\n",
       "    <tr>\n",
       "      <th>996</th>\n",
       "      <td>-18.437936</td>\n",
       "      <td>-8.903178</td>\n",
       "      <td>-0.640778</td>\n",
       "      <td>-0.563026</td>\n",
       "    </tr>\n",
       "    <tr>\n",
       "      <th>997</th>\n",
       "      <td>3.721055</td>\n",
       "      <td>3.891592</td>\n",
       "      <td>-0.531207</td>\n",
       "      <td>-4.071553</td>\n",
       "    </tr>\n",
       "    <tr>\n",
       "      <th>998</th>\n",
       "      <td>20.420697</td>\n",
       "      <td>2.952799</td>\n",
       "      <td>-7.764991</td>\n",
       "      <td>-13.854245</td>\n",
       "    </tr>\n",
       "    <tr>\n",
       "      <th>999</th>\n",
       "      <td>5.059656</td>\n",
       "      <td>-7.282722</td>\n",
       "      <td>21.650561</td>\n",
       "      <td>17.882329</td>\n",
       "    </tr>\n",
       "  </tbody>\n",
       "</table>\n",
       "<p>1000 rows × 4 columns</p>\n",
       "</div>"
      ],
      "text/plain": [
       "     feature_1  feature_2  feature_3     target\n",
       "0     0.103526 -13.118362 -10.651137 -10.016119\n",
       "1   -15.978721  -6.300250   7.319555  -2.835304\n",
       "2    19.583475 -12.295496   4.966992  -4.764661\n",
       "3     2.809919  -6.226995  -2.081223   1.350010\n",
       "4    -6.540757 -18.306329   5.112026   1.230942\n",
       "..         ...        ...        ...        ...\n",
       "995 -15.769965  -8.028244  -0.739729  -6.686316\n",
       "996 -18.437936  -8.903178  -0.640778  -0.563026\n",
       "997   3.721055   3.891592  -0.531207  -4.071553\n",
       "998  20.420697   2.952799  -7.764991 -13.854245\n",
       "999   5.059656  -7.282722  21.650561  17.882329\n",
       "\n",
       "[1000 rows x 4 columns]"
      ]
     },
     "metadata": {},
     "output_type": "display_data"
    },
    {
     "name": "stdout",
     "output_type": "stream",
     "text": [
      "\n",
      "Evaluation data:\n"
     ]
    },
    {
     "data": {
      "text/html": [
       "<div>\n",
       "<style scoped>\n",
       "    .dataframe tbody tr th:only-of-type {\n",
       "        vertical-align: middle;\n",
       "    }\n",
       "\n",
       "    .dataframe tbody tr th {\n",
       "        vertical-align: top;\n",
       "    }\n",
       "\n",
       "    .dataframe thead th {\n",
       "        text-align: right;\n",
       "    }\n",
       "</style>\n",
       "<table border=\"1\" class=\"dataframe\">\n",
       "  <thead>\n",
       "    <tr style=\"text-align: right;\">\n",
       "      <th></th>\n",
       "      <th>id</th>\n",
       "      <th>feature_1</th>\n",
       "      <th>feature_2</th>\n",
       "      <th>feature_3</th>\n",
       "    </tr>\n",
       "  </thead>\n",
       "  <tbody>\n",
       "    <tr>\n",
       "      <th>0</th>\n",
       "      <td>1</td>\n",
       "      <td>6.789313</td>\n",
       "      <td>-1.369955</td>\n",
       "      <td>-5.193964</td>\n",
       "    </tr>\n",
       "    <tr>\n",
       "      <th>1</th>\n",
       "      <td>2</td>\n",
       "      <td>-0.626396</td>\n",
       "      <td>2.431235</td>\n",
       "      <td>-2.942425</td>\n",
       "    </tr>\n",
       "    <tr>\n",
       "      <th>2</th>\n",
       "      <td>3</td>\n",
       "      <td>-1.112261</td>\n",
       "      <td>-9.039076</td>\n",
       "      <td>-7.355299</td>\n",
       "    </tr>\n",
       "    <tr>\n",
       "      <th>3</th>\n",
       "      <td>4</td>\n",
       "      <td>16.283966</td>\n",
       "      <td>-3.791277</td>\n",
       "      <td>-2.035804</td>\n",
       "    </tr>\n",
       "    <tr>\n",
       "      <th>4</th>\n",
       "      <td>5</td>\n",
       "      <td>7.591552</td>\n",
       "      <td>-5.765104</td>\n",
       "      <td>-25.910423</td>\n",
       "    </tr>\n",
       "    <tr>\n",
       "      <th>...</th>\n",
       "      <td>...</td>\n",
       "      <td>...</td>\n",
       "      <td>...</td>\n",
       "      <td>...</td>\n",
       "    </tr>\n",
       "    <tr>\n",
       "      <th>495</th>\n",
       "      <td>496</td>\n",
       "      <td>1.946075</td>\n",
       "      <td>-7.424706</td>\n",
       "      <td>-13.200225</td>\n",
       "    </tr>\n",
       "    <tr>\n",
       "      <th>496</th>\n",
       "      <td>497</td>\n",
       "      <td>11.889134</td>\n",
       "      <td>7.083038</td>\n",
       "      <td>3.514482</td>\n",
       "    </tr>\n",
       "    <tr>\n",
       "      <th>497</th>\n",
       "      <td>498</td>\n",
       "      <td>2.482206</td>\n",
       "      <td>-4.593609</td>\n",
       "      <td>-8.498444</td>\n",
       "    </tr>\n",
       "    <tr>\n",
       "      <th>498</th>\n",
       "      <td>499</td>\n",
       "      <td>9.955815</td>\n",
       "      <td>17.031726</td>\n",
       "      <td>-16.380291</td>\n",
       "    </tr>\n",
       "    <tr>\n",
       "      <th>499</th>\n",
       "      <td>500</td>\n",
       "      <td>4.322630</td>\n",
       "      <td>4.700442</td>\n",
       "      <td>-7.076259</td>\n",
       "    </tr>\n",
       "  </tbody>\n",
       "</table>\n",
       "<p>500 rows × 4 columns</p>\n",
       "</div>"
      ],
      "text/plain": [
       "      id  feature_1  feature_2  feature_3\n",
       "0      1   6.789313  -1.369955  -5.193964\n",
       "1      2  -0.626396   2.431235  -2.942425\n",
       "2      3  -1.112261  -9.039076  -7.355299\n",
       "3      4  16.283966  -3.791277  -2.035804\n",
       "4      5   7.591552  -5.765104 -25.910423\n",
       "..   ...        ...        ...        ...\n",
       "495  496   1.946075  -7.424706 -13.200225\n",
       "496  497  11.889134   7.083038   3.514482\n",
       "497  498   2.482206  -4.593609  -8.498444\n",
       "498  499   9.955815  17.031726 -16.380291\n",
       "499  500   4.322630   4.700442  -7.076259\n",
       "\n",
       "[500 rows x 4 columns]"
      ]
     },
     "metadata": {},
     "output_type": "display_data"
    }
   ],
   "source": [
    "import pandas as pd\n",
    "\n",
    "# Load training data (features and target)\n",
    "train_df = pd.read_csv(\"train.csv\")\n",
    "print(\"Training data:\")\n",
    "display(train_df)\n",
    "\n",
    "# Load test data (features only)\n",
    "eval_df = pd.read_csv(\"eval.csv\")\n",
    "print(\"\\nEvaluation data:\")\n",
    "display(eval_df)"
   ]
  },
  {
   "cell_type": "markdown",
   "id": "e23de968",
   "metadata": {},
   "source": [
    "\n",
    "## 🔧 Step 1: Prepare the data\n",
    "\n",
    "We'll separate the features and the target for training.  \n",
    "The evaluation data only has features and an ID — we'll use those features to predict the target.\n"
   ]
  },
  {
   "cell_type": "code",
   "execution_count": 34,
   "id": "fa5f9b50",
   "metadata": {},
   "outputs": [],
   "source": [
    "# Separate features and target\n",
    "X_train_full = train_df[['feature_1', 'feature_2', 'feature_3']]\n",
    "y_train_full = train_df['target']\n",
    "\n",
    "# Extract test features and IDs\n",
    "X_eval = eval_df[['feature_1', 'feature_2', 'feature_3']]\n",
    "eval_ids = eval_df['id']"
   ]
  },
  {
   "cell_type": "markdown",
   "id": "758305f3",
   "metadata": {},
   "source": [
    "## 📊 Step 2: Evaluate your model before submitting\n",
    "\n",
    "Before using the evaluation dataset, let's split our training data into a smaller training set and a validation set.\n",
    "This helps us understand how well the model might perform on unseen data — just like in the real evaluation.\n",
    "\n",
    "We'll use **Linear Regression**, a common starting point in machine learning and we will use **80% for training** and **20% for testing**.\n",
    "\n",
    "🚨 **Stop here** 🚨\n",
    "\n",
    "The procedure below creates a very simple model that will not generate the best results. If you want to improve your score try some of the following ideas:\n",
    "- Try more powerful models like `RandomForestRegressor`, `GradientBoostingRegressor`, or `SVR`. See [Machine Learning Map](https://scikit-learn.org/stable/machine_learning_map.html).\n",
    "- Use feature transformations like polynomial features or normalization. See [Dataset Transformations](https://scikit-learn.org/stable/data_transforms.html).\n",
    "- Tune model hyperparameters. For this see the documentation for each model."
   ]
  },
  {
   "cell_type": "code",
   "execution_count": 35,
   "id": "8deb1b0a",
   "metadata": {},
   "outputs": [
    {
     "name": "stdout",
     "output_type": "stream",
     "text": [
      "Test MSE: 23.4352\n"
     ]
    }
   ],
   "source": [
    "from sklearn.linear_model import LinearRegression\n",
    "from sklearn.model_selection import train_test_split\n",
    "from sklearn.metrics import mean_squared_error\n",
    "\n",
    "# Split the original training data\n",
    "X_train, X_test, y_train, y_test= train_test_split(X_train_full, y_train_full, test_size=0.2, random_state=42)\n",
    "\n",
    "# Train the model on training subset\n",
    "model = LinearRegression()\n",
    "model.fit(X_train, y_train)\n",
    "\n",
    "# Predict and evaluate on the validation set\n",
    "y_test_pred = model.predict(X_test)\n",
    "test_mse = mean_squared_error(y_test, y_test_pred)\n",
    "print(f\"Test MSE: {test_mse:.4f}\")"
   ]
  },
  {
   "cell_type": "markdown",
   "id": "deec5161",
   "metadata": {},
   "source": [
    "## 🤖 Step 3: Train your model again with all the data"
   ]
  },
  {
   "cell_type": "code",
   "execution_count": 39,
   "id": "b143a792",
   "metadata": {},
   "outputs": [
    {
     "data": {
      "text/html": [
       "<style>#sk-container-id-7 {color: black;}#sk-container-id-7 pre{padding: 0;}#sk-container-id-7 div.sk-toggleable {background-color: white;}#sk-container-id-7 label.sk-toggleable__label {cursor: pointer;display: block;width: 100%;margin-bottom: 0;padding: 0.3em;box-sizing: border-box;text-align: center;}#sk-container-id-7 label.sk-toggleable__label-arrow:before {content: \"▸\";float: left;margin-right: 0.25em;color: #696969;}#sk-container-id-7 label.sk-toggleable__label-arrow:hover:before {color: black;}#sk-container-id-7 div.sk-estimator:hover label.sk-toggleable__label-arrow:before {color: black;}#sk-container-id-7 div.sk-toggleable__content {max-height: 0;max-width: 0;overflow: hidden;text-align: left;background-color: #f0f8ff;}#sk-container-id-7 div.sk-toggleable__content pre {margin: 0.2em;color: black;border-radius: 0.25em;background-color: #f0f8ff;}#sk-container-id-7 input.sk-toggleable__control:checked~div.sk-toggleable__content {max-height: 200px;max-width: 100%;overflow: auto;}#sk-container-id-7 input.sk-toggleable__control:checked~label.sk-toggleable__label-arrow:before {content: \"▾\";}#sk-container-id-7 div.sk-estimator input.sk-toggleable__control:checked~label.sk-toggleable__label {background-color: #d4ebff;}#sk-container-id-7 div.sk-label input.sk-toggleable__control:checked~label.sk-toggleable__label {background-color: #d4ebff;}#sk-container-id-7 input.sk-hidden--visually {border: 0;clip: rect(1px 1px 1px 1px);clip: rect(1px, 1px, 1px, 1px);height: 1px;margin: -1px;overflow: hidden;padding: 0;position: absolute;width: 1px;}#sk-container-id-7 div.sk-estimator {font-family: monospace;background-color: #f0f8ff;border: 1px dotted black;border-radius: 0.25em;box-sizing: border-box;margin-bottom: 0.5em;}#sk-container-id-7 div.sk-estimator:hover {background-color: #d4ebff;}#sk-container-id-7 div.sk-parallel-item::after {content: \"\";width: 100%;border-bottom: 1px solid gray;flex-grow: 1;}#sk-container-id-7 div.sk-label:hover label.sk-toggleable__label {background-color: #d4ebff;}#sk-container-id-7 div.sk-serial::before {content: \"\";position: absolute;border-left: 1px solid gray;box-sizing: border-box;top: 0;bottom: 0;left: 50%;z-index: 0;}#sk-container-id-7 div.sk-serial {display: flex;flex-direction: column;align-items: center;background-color: white;padding-right: 0.2em;padding-left: 0.2em;position: relative;}#sk-container-id-7 div.sk-item {position: relative;z-index: 1;}#sk-container-id-7 div.sk-parallel {display: flex;align-items: stretch;justify-content: center;background-color: white;position: relative;}#sk-container-id-7 div.sk-item::before, #sk-container-id-7 div.sk-parallel-item::before {content: \"\";position: absolute;border-left: 1px solid gray;box-sizing: border-box;top: 0;bottom: 0;left: 50%;z-index: -1;}#sk-container-id-7 div.sk-parallel-item {display: flex;flex-direction: column;z-index: 1;position: relative;background-color: white;}#sk-container-id-7 div.sk-parallel-item:first-child::after {align-self: flex-end;width: 50%;}#sk-container-id-7 div.sk-parallel-item:last-child::after {align-self: flex-start;width: 50%;}#sk-container-id-7 div.sk-parallel-item:only-child::after {width: 0;}#sk-container-id-7 div.sk-dashed-wrapped {border: 1px dashed gray;margin: 0 0.4em 0.5em 0.4em;box-sizing: border-box;padding-bottom: 0.4em;background-color: white;}#sk-container-id-7 div.sk-label label {font-family: monospace;font-weight: bold;display: inline-block;line-height: 1.2em;}#sk-container-id-7 div.sk-label-container {text-align: center;}#sk-container-id-7 div.sk-container {/* jupyter's `normalize.less` sets `[hidden] { display: none; }` but bootstrap.min.css set `[hidden] { display: none !important; }` so we also need the `!important` here to be able to override the default hidden behavior on the sphinx rendered scikit-learn.org. See: https://github.com/scikit-learn/scikit-learn/issues/21755 */display: inline-block !important;position: relative;}#sk-container-id-7 div.sk-text-repr-fallback {display: none;}</style><div id=\"sk-container-id-7\" class=\"sk-top-container\"><div class=\"sk-text-repr-fallback\"><pre>LinearRegression()</pre><b>In a Jupyter environment, please rerun this cell to show the HTML representation or trust the notebook. <br />On GitHub, the HTML representation is unable to render, please try loading this page with nbviewer.org.</b></div><div class=\"sk-container\" hidden><div class=\"sk-item\"><div class=\"sk-estimator sk-toggleable\"><input class=\"sk-toggleable__control sk-hidden--visually\" id=\"sk-estimator-id-7\" type=\"checkbox\" checked><label for=\"sk-estimator-id-7\" class=\"sk-toggleable__label sk-toggleable__label-arrow\">LinearRegression</label><div class=\"sk-toggleable__content\"><pre>LinearRegression()</pre></div></div></div></div></div>"
      ],
      "text/plain": [
       "LinearRegression()"
      ]
     },
     "execution_count": 39,
     "metadata": {},
     "output_type": "execute_result"
    }
   ],
   "source": [
    "# Train the model\n",
    "model.fit(X_train_full, y_train_full)"
   ]
  },
  {
   "cell_type": "markdown",
   "id": "e5fa063c",
   "metadata": {},
   "source": [
    "\n",
    "## 📈 Step 3: Make predictions on the evaluation data\n"
   ]
  },
  {
   "cell_type": "code",
   "execution_count": 40,
   "id": "8c68a4b4",
   "metadata": {},
   "outputs": [],
   "source": [
    "# Predict using the trained model\n",
    "y_eval_pred = model.predict(X_eval)"
   ]
  },
  {
   "cell_type": "markdown",
   "id": "3d3ec9f9",
   "metadata": {},
   "source": [
    "\n",
    "## 💾 Step 4: Save predictions to a CSV file\n",
    "\n",
    "We create a new DataFrame with the `id` and your model's predictions, then save it.  \n",
    "Make sure your file is named `predictions.csv` for submission!\n"
   ]
  },
  {
   "cell_type": "code",
   "execution_count": 38,
   "id": "8efc07d3",
   "metadata": {},
   "outputs": [
    {
     "name": "stdout",
     "output_type": "stream",
     "text": [
      "Predictions saved to predictions.csv!\n"
     ]
    }
   ],
   "source": [
    "# Create submission DataFrame\n",
    "submission = pd.DataFrame({'id': eval_ids, 'prediction': y_eval_pred})\n",
    "\n",
    "# Save to CSV\n",
    "submission.to_csv(\"predictions.csv\", index=False)\n",
    "print(\"Predictions saved to predictions.csv!\")"
   ]
  }
 ],
 "metadata": {
  "kernelspec": {
   "display_name": "Python 3",
   "language": "python",
   "name": "python3"
  },
  "language_info": {
   "codemirror_mode": {
    "name": "ipython",
    "version": 3
   },
   "file_extension": ".py",
   "mimetype": "text/x-python",
   "name": "python",
   "nbconvert_exporter": "python",
   "pygments_lexer": "ipython3",
   "version": "3.12.10"
  }
 },
 "nbformat": 4,
 "nbformat_minor": 5
}
