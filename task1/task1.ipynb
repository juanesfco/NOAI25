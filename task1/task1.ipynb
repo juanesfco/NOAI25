{
 "cells": [
  {
   "cell_type": "markdown",
   "id": "5a33f8a4",
   "metadata": {},
   "source": [
    "\n",
    "# 🧠 Task 1 Baseline Notebook: Simple Regression Model\n",
    "\n",
    "Welcome to the **Puerto Rico National Olympiad of Artificial Intelligence 2025**! 🎯  \n",
    "In this task, your goal is to **predict a continuous variable (target)** based on three input features using **supervised machine learning**.\n",
    "\n",
    "## 📝 How the competition works\n",
    "\n",
    "- You are given:\n",
    "  - `train.csv`: a dataset of 10,000 entries with 3 features and the corresponding target value.\n",
    "  - `eval.csv`: a dataset of 5,000 entries with the same 3 features, but without the target. Each row has a unique `id`.\n",
    "- Your task is to:\n",
    "  1. **Train a regression model** using the training dataset.\n",
    "  2. **Predict the target values** for the evaluation dataset.\n",
    "  3. **Export your predictions** to a CSV file with two columns: `id` and `prediction`.\n",
    "\n",
    "You will **submit your predictions**, and the organizers will evaluate how close they are to the real (hidden) targets using the **Mean Squared Error (MSE)** metric.\n"
   ]
  },
  {
   "cell_type": "code",
   "execution_count": 2,
   "id": "193a7c75",
   "metadata": {},
   "outputs": [
    {
     "name": "stdout",
     "output_type": "stream",
     "text": [
      "Training data:\n",
      "   feature_1  feature_2  feature_3    target\n",
      "0   0.496714  -0.138264   0.647689  2.213169\n",
      "1   1.523030  -0.234153  -0.234137  6.794350\n",
      "2   1.579213   0.767435  -0.469474  4.067783\n",
      "3   0.542560  -0.463418  -0.465730  3.321263\n",
      "4   0.241962  -1.913280  -1.724918  4.523979\n",
      "\n",
      "Evaluation data:\n",
      "   id  feature_1  feature_2  feature_3\n",
      "0   1  -0.471858   1.012702  -0.198187\n",
      "1   2   0.090569   0.717391  -0.058963\n",
      "2   3  -1.817848   1.040588   1.254929\n",
      "3   4  -1.831116  -1.043291   2.023880\n",
      "4   5   0.232035   0.003551  -0.426383\n"
     ]
    }
   ],
   "source": [
    "import pandas as pd\n",
    "\n",
    "# Load training data (features and target)\n",
    "train_df = pd.read_csv(\"train.csv\")\n",
    "print(\"Training data:\")\n",
    "print(train_df.head())\n",
    "\n",
    "# Load test data (features only)\n",
    "eval_df = pd.read_csv(\"eval.csv\")\n",
    "print(\"\\nEvaluation data:\")\n",
    "print(eval_df.head())"
   ]
  },
  {
   "cell_type": "markdown",
   "id": "e23de968",
   "metadata": {},
   "source": [
    "\n",
    "## 🔧 Step 1: Prepare the data\n",
    "\n",
    "We'll separate the features and the target for training.  \n",
    "The evaluation data only has features and an ID — we'll use those features to predict the target.\n"
   ]
  },
  {
   "cell_type": "code",
   "execution_count": 3,
   "id": "fa5f9b50",
   "metadata": {},
   "outputs": [],
   "source": [
    "# Separate features and target\n",
    "X_train_full = train_df[['feature_1', 'feature_2', 'feature_3']]\n",
    "y_train_full = train_df['target']\n",
    "\n",
    "# Extract test features and IDs\n",
    "X_eval = eval_df[['feature_1', 'feature_2', 'feature_3']]\n",
    "eval_ids = eval_df['id']"
   ]
  },
  {
   "cell_type": "markdown",
   "id": "758305f3",
   "metadata": {},
   "source": [
    "## 📊 Step 2: Evaluate your model before submitting\n",
    "\n",
    "Before using the evaluation dataset, let's split our training data into a smaller training set and a validation set.\n",
    "This helps us understand how well the model might perform on unseen data — just like in the real evaluation.\n",
    "\n",
    "We'll use **Linear Regression**, a common starting point in machine learning and we will use **80% for training** and **20% for testing**.\n"
   ]
  },
  {
   "cell_type": "code",
   "execution_count": 4,
   "id": "8deb1b0a",
   "metadata": {},
   "outputs": [
    {
     "name": "stdout",
     "output_type": "stream",
     "text": [
      "Test MSE: 1.0345\n"
     ]
    }
   ],
   "source": [
    "from sklearn.linear_model import LinearRegression\n",
    "from sklearn.model_selection import train_test_split\n",
    "from sklearn.metrics import mean_squared_error\n",
    "\n",
    "# Split the original training data\n",
    "X_train, X_test, y_train, y_test= train_test_split(X_train_full, y_train_full, test_size=0.2, random_state=42)\n",
    "\n",
    "# Train the model on training subset\n",
    "model = LinearRegression()\n",
    "model.fit(X_train, y_train)\n",
    "\n",
    "# Predict and evaluate on the validation set\n",
    "y_test_pred = model.predict(X_test)\n",
    "test_mse = mean_squared_error(y_test, y_test_pred)\n",
    "print(f\"Test MSE: {test_mse:.4f}\")"
   ]
  },
  {
   "cell_type": "markdown",
   "id": "deec5161",
   "metadata": {},
   "source": [
    "## 🤖 Step 3: Train a simple regression model with all the data"
   ]
  },
  {
   "cell_type": "code",
   "execution_count": 5,
   "id": "b143a792",
   "metadata": {},
   "outputs": [
    {
     "data": {
      "text/html": [
       "<style>#sk-container-id-1 {color: black;}#sk-container-id-1 pre{padding: 0;}#sk-container-id-1 div.sk-toggleable {background-color: white;}#sk-container-id-1 label.sk-toggleable__label {cursor: pointer;display: block;width: 100%;margin-bottom: 0;padding: 0.3em;box-sizing: border-box;text-align: center;}#sk-container-id-1 label.sk-toggleable__label-arrow:before {content: \"▸\";float: left;margin-right: 0.25em;color: #696969;}#sk-container-id-1 label.sk-toggleable__label-arrow:hover:before {color: black;}#sk-container-id-1 div.sk-estimator:hover label.sk-toggleable__label-arrow:before {color: black;}#sk-container-id-1 div.sk-toggleable__content {max-height: 0;max-width: 0;overflow: hidden;text-align: left;background-color: #f0f8ff;}#sk-container-id-1 div.sk-toggleable__content pre {margin: 0.2em;color: black;border-radius: 0.25em;background-color: #f0f8ff;}#sk-container-id-1 input.sk-toggleable__control:checked~div.sk-toggleable__content {max-height: 200px;max-width: 100%;overflow: auto;}#sk-container-id-1 input.sk-toggleable__control:checked~label.sk-toggleable__label-arrow:before {content: \"▾\";}#sk-container-id-1 div.sk-estimator input.sk-toggleable__control:checked~label.sk-toggleable__label {background-color: #d4ebff;}#sk-container-id-1 div.sk-label input.sk-toggleable__control:checked~label.sk-toggleable__label {background-color: #d4ebff;}#sk-container-id-1 input.sk-hidden--visually {border: 0;clip: rect(1px 1px 1px 1px);clip: rect(1px, 1px, 1px, 1px);height: 1px;margin: -1px;overflow: hidden;padding: 0;position: absolute;width: 1px;}#sk-container-id-1 div.sk-estimator {font-family: monospace;background-color: #f0f8ff;border: 1px dotted black;border-radius: 0.25em;box-sizing: border-box;margin-bottom: 0.5em;}#sk-container-id-1 div.sk-estimator:hover {background-color: #d4ebff;}#sk-container-id-1 div.sk-parallel-item::after {content: \"\";width: 100%;border-bottom: 1px solid gray;flex-grow: 1;}#sk-container-id-1 div.sk-label:hover label.sk-toggleable__label {background-color: #d4ebff;}#sk-container-id-1 div.sk-serial::before {content: \"\";position: absolute;border-left: 1px solid gray;box-sizing: border-box;top: 0;bottom: 0;left: 50%;z-index: 0;}#sk-container-id-1 div.sk-serial {display: flex;flex-direction: column;align-items: center;background-color: white;padding-right: 0.2em;padding-left: 0.2em;position: relative;}#sk-container-id-1 div.sk-item {position: relative;z-index: 1;}#sk-container-id-1 div.sk-parallel {display: flex;align-items: stretch;justify-content: center;background-color: white;position: relative;}#sk-container-id-1 div.sk-item::before, #sk-container-id-1 div.sk-parallel-item::before {content: \"\";position: absolute;border-left: 1px solid gray;box-sizing: border-box;top: 0;bottom: 0;left: 50%;z-index: -1;}#sk-container-id-1 div.sk-parallel-item {display: flex;flex-direction: column;z-index: 1;position: relative;background-color: white;}#sk-container-id-1 div.sk-parallel-item:first-child::after {align-self: flex-end;width: 50%;}#sk-container-id-1 div.sk-parallel-item:last-child::after {align-self: flex-start;width: 50%;}#sk-container-id-1 div.sk-parallel-item:only-child::after {width: 0;}#sk-container-id-1 div.sk-dashed-wrapped {border: 1px dashed gray;margin: 0 0.4em 0.5em 0.4em;box-sizing: border-box;padding-bottom: 0.4em;background-color: white;}#sk-container-id-1 div.sk-label label {font-family: monospace;font-weight: bold;display: inline-block;line-height: 1.2em;}#sk-container-id-1 div.sk-label-container {text-align: center;}#sk-container-id-1 div.sk-container {/* jupyter's `normalize.less` sets `[hidden] { display: none; }` but bootstrap.min.css set `[hidden] { display: none !important; }` so we also need the `!important` here to be able to override the default hidden behavior on the sphinx rendered scikit-learn.org. See: https://github.com/scikit-learn/scikit-learn/issues/21755 */display: inline-block !important;position: relative;}#sk-container-id-1 div.sk-text-repr-fallback {display: none;}</style><div id=\"sk-container-id-1\" class=\"sk-top-container\"><div class=\"sk-text-repr-fallback\"><pre>LinearRegression()</pre><b>In a Jupyter environment, please rerun this cell to show the HTML representation or trust the notebook. <br />On GitHub, the HTML representation is unable to render, please try loading this page with nbviewer.org.</b></div><div class=\"sk-container\" hidden><div class=\"sk-item\"><div class=\"sk-estimator sk-toggleable\"><input class=\"sk-toggleable__control sk-hidden--visually\" id=\"sk-estimator-id-1\" type=\"checkbox\" checked><label for=\"sk-estimator-id-1\" class=\"sk-toggleable__label sk-toggleable__label-arrow\">LinearRegression</label><div class=\"sk-toggleable__content\"><pre>LinearRegression()</pre></div></div></div></div></div>"
      ],
      "text/plain": [
       "LinearRegression()"
      ]
     },
     "execution_count": 5,
     "metadata": {},
     "output_type": "execute_result"
    }
   ],
   "source": [
    "from sklearn.linear_model import LinearRegression\n",
    "\n",
    "# Create and train the model\n",
    "model_full = LinearRegression()\n",
    "model_full.fit(X_train_full, y_train_full)"
   ]
  },
  {
   "cell_type": "markdown",
   "id": "e5fa063c",
   "metadata": {},
   "source": [
    "\n",
    "## 📈 Step 3: Make predictions on the evaluation data\n"
   ]
  },
  {
   "cell_type": "code",
   "execution_count": 6,
   "id": "8c68a4b4",
   "metadata": {},
   "outputs": [],
   "source": [
    "# Predict using the trained model\n",
    "y_eval_pred = model_full.predict(X_eval)"
   ]
  },
  {
   "cell_type": "markdown",
   "id": "3d3ec9f9",
   "metadata": {},
   "source": [
    "\n",
    "## 💾 Step 4: Save predictions to a CSV file\n",
    "\n",
    "We create a new DataFrame with the `id` and your model's predictions, then save it.  \n",
    "Make sure your file is named `predictions.csv` for submission!\n"
   ]
  },
  {
   "cell_type": "code",
   "execution_count": 7,
   "id": "8efc07d3",
   "metadata": {},
   "outputs": [
    {
     "name": "stdout",
     "output_type": "stream",
     "text": [
      "Predictions saved to predictions.csv!\n"
     ]
    }
   ],
   "source": [
    "# Create submission DataFrame\n",
    "submission = pd.DataFrame({'id': eval_ids, 'prediction': y_eval_pred})\n",
    "\n",
    "# Save to CSV\n",
    "submission.to_csv(\"predictions.csv\", index=False)\n",
    "print(\"Predictions saved to predictions.csv!\")"
   ]
  },
  {
   "cell_type": "code",
   "execution_count": null,
   "id": "c14301bf",
   "metadata": {},
   "outputs": [],
   "source": []
  }
 ],
 "metadata": {
  "kernelspec": {
   "display_name": "Python 3",
   "language": "python",
   "name": "python3"
  },
  "language_info": {
   "codemirror_mode": {
    "name": "ipython",
    "version": 3
   },
   "file_extension": ".py",
   "mimetype": "text/x-python",
   "name": "python",
   "nbconvert_exporter": "python",
   "pygments_lexer": "ipython3",
   "version": "3.12.10"
  }
 },
 "nbformat": 4,
 "nbformat_minor": 5
}
