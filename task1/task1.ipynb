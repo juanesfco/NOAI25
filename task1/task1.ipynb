{
 "cells": [
  {
   "cell_type": "markdown",
   "id": "5a33f8a4",
   "metadata": {},
   "source": [
    "\n",
    "# 🧠 Baseline Notebook: Simple Regression Model\n",
    "\n",
    "Welcome to the **Puerto Rico National Olympiad of Artificial Intelligence 2025**! 🎯  \n",
    "In this task, your goal is to **predict a continuous variable (target)** based on three input features using **supervised machine learning**.\n",
    "\n",
    "## 📝 How the competition works\n",
    "\n",
    "- You are given:\n",
    "  - `train.csv`: a dataset of 10,000 entries with 3 features and the corresponding target value.\n",
    "  - `eval.csv`: a dataset of 5,000 entries with the same 3 features, but without the target. Each row has a unique `id`.\n",
    "- Your task is to:\n",
    "  1. **Train a regression model** using the training dataset.\n",
    "  2. **Predict the target values** for the evaluation dataset.\n",
    "  3. **Export your predictions** to a CSV file with two columns: `id` and `prediction`.\n",
    "\n",
    "You will **submit your predictions**, and the organizers will evaluate how close they are to the real (hidden) targets using the **Mean Squared Error (MSE)** metric.\n"
   ]
  },
  {
   "cell_type": "code",
   "execution_count": null,
   "id": "193a7c75",
   "metadata": {},
   "outputs": [
    {
     "name": "stdout",
     "output_type": "stream",
     "text": [
      "Training data:\n",
      "   feature_1  feature_2  feature_3    target\n",
      "0   0.496714  -0.138264   0.647689  2.213169\n",
      "1   1.523030  -0.234153  -0.234137  6.794350\n",
      "2   1.579213   0.767435  -0.469474  4.067783\n",
      "3   0.542560  -0.463418  -0.465730  3.321263\n",
      "4   0.241962  -1.913280  -1.724918  4.523979\n",
      "\n",
      "Evaluation data:\n",
      "   id  feature_1  feature_2  feature_3\n",
      "0   1  -0.471858   1.012702  -0.198187\n",
      "1   2   0.090569   0.717391  -0.058963\n",
      "2   3  -1.817848   1.040588   1.254929\n",
      "3   4  -1.831116  -1.043291   2.023880\n",
      "4   5   0.232035   0.003551  -0.426383\n"
     ]
    }
   ],
   "source": [
    "import pandas as pd\n",
    "\n",
    "# Load training data (features and target)\n",
    "train_df = pd.read_csv(\"train.csv\")\n",
    "print(\"Training data:\")\n",
    "print(train_df.head())\n",
    "\n",
    "# Load test data (features only)\n",
    "eval_df = pd.read_csv(\"eval.csv\")\n",
    "print(\"\\nEvaluation data:\")\n",
    "print(eval_df.head())"
   ]
  },
  {
   "cell_type": "markdown",
   "id": "e23de968",
   "metadata": {},
   "source": [
    "\n",
    "## 🔧 Step 1: Prepare the data\n",
    "\n",
    "We'll separate the features and the target for training.  \n",
    "The evaluation data only has features and an ID — we'll use those features to predict the target.\n"
   ]
  },
  {
   "cell_type": "code",
   "execution_count": null,
   "id": "fa5f9b50",
   "metadata": {},
   "outputs": [],
   "source": [
    "# Separate features and target\n",
    "X_train = train_df[['feature_1', 'feature_2', 'feature_3']]\n",
    "y_train = train_df['target']\n",
    "\n",
    "# Extract test features and IDs\n",
    "X_eval = eval_df[['feature_1', 'feature_2', 'feature_3']]\n",
    "eval_ids = eval_df['id']"
   ]
  },
  {
   "cell_type": "markdown",
   "id": "758305f3",
   "metadata": {},
   "source": [
    "\n",
    "## 📊 Step 2: Evaluate your model before submitting\n",
    "\n",
    "Before using the evaluation dataset, let's split our training data into a smaller training set and a validation set.\n",
    "This helps us understand how well the model might perform on unseen data — just like in the real evaluation.\n",
    "\n",
    "We will use **80% for training** and **20% for testing**.\n"
   ]
  },
  {
   "cell_type": "code",
   "execution_count": null,
   "id": "8deb1b0a",
   "metadata": {},
   "outputs": [
    {
     "name": "stdout",
     "output_type": "stream",
     "text": [
      "Test MSE: 1.0345\n"
     ]
    }
   ],
   "source": [
    "from sklearn.linear_model import LinearRegression\n",
    "from sklearn.model_selection import train_test_split\n",
    "from sklearn.metrics import mean_squared_error\n",
    "\n",
    "# Split the original training data\n",
    "X_train, X_test, y_train, y_test= train_test_split(X_train, y_train, test_size=0.2, random_state=42)\n",
    "\n",
    "# Train the model on training subset\n",
    "model = LinearRegression()\n",
    "model.fit(X_train, y_train)\n",
    "\n",
    "# Predict and evaluate on the validation set\n",
    "y_test_pred = model.predict(X_test)\n",
    "test_mse = mean_squared_error(y_test, y_test_pred)\n",
    "print(f\"Test MSE: {test_mse:.4f}\")"
   ]
  },
  {
   "cell_type": "markdown",
   "id": "deec5161",
   "metadata": {},
   "source": [
    "\n",
    "## 🤖 Step 3: Train a simple regression model with all the data\n",
    "\n",
    "We'll use **Linear Regression**, a common starting point in machine learning.\n"
   ]
  },
  {
   "cell_type": "code",
   "execution_count": null,
   "id": "b143a792",
   "metadata": {},
   "outputs": [],
   "source": [
    "from sklearn.linear_model import LinearRegression\n",
    "\n",
    "# Create and train the model\n",
    "model = LinearRegression()\n",
    "model.fit(X_train, y_train)"
   ]
  },
  {
   "cell_type": "markdown",
   "id": "e5fa063c",
   "metadata": {},
   "source": [
    "\n",
    "## 📈 Step 3: Make predictions on the evaluation data\n"
   ]
  },
  {
   "cell_type": "code",
   "execution_count": 11,
   "id": "8c68a4b4",
   "metadata": {},
   "outputs": [],
   "source": [
    "# Predict using the trained model\n",
    "y_eval_pred = model.predict(X_eval)"
   ]
  },
  {
   "cell_type": "markdown",
   "id": "3d3ec9f9",
   "metadata": {},
   "source": [
    "\n",
    "## 💾 Step 4: Save predictions to a CSV file\n",
    "\n",
    "We create a new DataFrame with the `id` and your model's predictions, then save it.  \n",
    "Make sure your file is named `predictions.csv` for submission!\n"
   ]
  },
  {
   "cell_type": "code",
   "execution_count": 12,
   "id": "8efc07d3",
   "metadata": {},
   "outputs": [
    {
     "name": "stdout",
     "output_type": "stream",
     "text": [
      "Predictions saved to predictions.csv!\n"
     ]
    }
   ],
   "source": [
    "\n",
    "# Create submission DataFrame\n",
    "submission = pd.DataFrame({'id': eval_ids, 'prediction': y_eval_pred})\n",
    "\n",
    "# Save to CSV\n",
    "submission.to_csv(\"predictions.csv\", index=False)\n",
    "print(\"Predictions saved to predictions.csv!\")\n"
   ]
  },
  {
   "cell_type": "code",
   "execution_count": null,
   "id": "c14301bf",
   "metadata": {},
   "outputs": [],
   "source": []
  }
 ],
 "metadata": {
  "language_info": {
   "name": "python"
  }
 },
 "nbformat": 4,
 "nbformat_minor": 5
}
