{
 "cells": [
  {
   "cell_type": "markdown",
   "id": "fe7de774",
   "metadata": {},
   "source": [
    "# Evaluate Data"
   ]
  },
  {
   "cell_type": "code",
   "execution_count": 7,
   "id": "427ab6d5",
   "metadata": {},
   "outputs": [
    {
     "name": "stdout",
     "output_type": "stream",
     "text": [
      "F1: 0.5487\n"
     ]
    }
   ],
   "source": [
    "import pandas as pd\n",
    "from sklearn.metrics import f1_score\n",
    "\n",
    "# Load predictions from the students and the ground truth\n",
    "pred_df = pd.read_csv(\"predictions_task2.csv\")  # submitted file\n",
    "eval_df = pd.read_csv(\"eval_true_targets_task2.csv\")  # private ground truth\n",
    "\n",
    "# Merge both dataframes on the 'id' column to align rows\n",
    "merged_df = pd.merge(pred_df, eval_df, on='id')\n",
    "\n",
    "# Compute Mean Squared Error\n",
    "mse = f1_score(merged_df['eval_target'], merged_df['prediction'], pos_label='>50K')\n",
    "print(f\"F1: {mse:.4f}\")"
   ]
  },
  {
   "cell_type": "code",
   "execution_count": null,
   "id": "ee7610dc",
   "metadata": {},
   "outputs": [],
   "source": []
  }
 ],
 "metadata": {
  "kernelspec": {
   "display_name": "Python 3",
   "language": "python",
   "name": "python3"
  },
  "language_info": {
   "codemirror_mode": {
    "name": "ipython",
    "version": 3
   },
   "file_extension": ".py",
   "mimetype": "text/x-python",
   "name": "python",
   "nbconvert_exporter": "python",
   "pygments_lexer": "ipython3",
   "version": "3.12.10"
  }
 },
 "nbformat": 4,
 "nbformat_minor": 5
}
