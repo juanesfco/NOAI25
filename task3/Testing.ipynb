{
 "cells": [
  {
   "cell_type": "code",
   "execution_count": 2,
   "id": "7057f129-1b11-472d-985f-78d5eba2e77c",
   "metadata": {},
   "outputs": [],
   "source": [
    "import pandas as pd\n",
    "import numpy as np\n",
    "\n",
    "# Carga predicciones y valores reales\n",
    "df_pred = pd.read_csv('submission.csv')  # columnas: id, prediction\n",
    "df_real = pd.read_csv('train_tables_Validar_Para_Sacar_Score.csv')        # columnas: id, target"
   ]
  },
  {
   "cell_type": "code",
   "execution_count": 6,
   "id": "befcad87-5dab-40c8-9cff-b8ce86b06f93",
   "metadata": {},
   "outputs": [
    {
     "data": {
      "text/html": [
       "<div>\n",
       "<style scoped>\n",
       "    .dataframe tbody tr th:only-of-type {\n",
       "        vertical-align: middle;\n",
       "    }\n",
       "\n",
       "    .dataframe tbody tr th {\n",
       "        vertical-align: top;\n",
       "    }\n",
       "\n",
       "    .dataframe thead th {\n",
       "        text-align: right;\n",
       "    }\n",
       "</style>\n",
       "<table border=\"1\" class=\"dataframe\">\n",
       "  <thead>\n",
       "    <tr style=\"text-align: right;\">\n",
       "      <th></th>\n",
       "      <th>id</th>\n",
       "      <th>target_x</th>\n",
       "      <th>target_y</th>\n",
       "    </tr>\n",
       "  </thead>\n",
       "  <tbody>\n",
       "    <tr>\n",
       "      <th>0</th>\n",
       "      <td>0</td>\n",
       "      <td>763.854317</td>\n",
       "      <td>675.550311</td>\n",
       "    </tr>\n",
       "    <tr>\n",
       "      <th>1</th>\n",
       "      <td>1</td>\n",
       "      <td>699.067414</td>\n",
       "      <td>705.120000</td>\n",
       "    </tr>\n",
       "    <tr>\n",
       "      <th>2</th>\n",
       "      <td>2</td>\n",
       "      <td>400.295821</td>\n",
       "      <td>705.400283</td>\n",
       "    </tr>\n",
       "    <tr>\n",
       "      <th>3</th>\n",
       "      <td>3</td>\n",
       "      <td>741.590871</td>\n",
       "      <td>767.314400</td>\n",
       "    </tr>\n",
       "    <tr>\n",
       "      <th>4</th>\n",
       "      <td>4</td>\n",
       "      <td>404.255503</td>\n",
       "      <td>845.658323</td>\n",
       "    </tr>\n",
       "  </tbody>\n",
       "</table>\n",
       "</div>"
      ],
      "text/plain": [
       "   id    target_x    target_y\n",
       "0   0  763.854317  675.550311\n",
       "1   1  699.067414  705.120000\n",
       "2   2  400.295821  705.400283\n",
       "3   3  741.590871  767.314400\n",
       "4   4  404.255503  845.658323"
      ]
     },
     "execution_count": 6,
     "metadata": {},
     "output_type": "execute_result"
    }
   ],
   "source": [
    "# Une por id\n",
    "df = pd.merge(df_real, df_pred, on='id')\n",
    "df.head()"
   ]
  },
  {
   "cell_type": "code",
   "execution_count": 7,
   "id": "c7ab9344-3288-4f81-ae1a-b1ce198aa1b7",
   "metadata": {},
   "outputs": [],
   "source": [
    "# Extrae vectores\n",
    "y_true = df['target_x'].values\n",
    "y_pred = df['target_y'].values"
   ]
  },
  {
   "cell_type": "code",
   "execution_count": 8,
   "id": "5e374c78-d327-41c5-999b-fc57926654da",
   "metadata": {},
   "outputs": [
    {
     "name": "stdout",
     "output_type": "stream",
     "text": [
      "Número de muestras: 6141\n",
      "Suma de errores al cuadrado: 207067793.164874\n",
      "MSE       = 33718.904603\n",
      "SCORE     = (MSE)^(1/4) = 13.550907\n"
     ]
    }
   ],
   "source": [
    "# 1) Suma de cuadrados de los errores\n",
    "sq_errors = (y_true - y_pred) ** 2\n",
    "sum_sq   = sq_errors.sum()\n",
    "\n",
    "# 2) Divide por n\n",
    "n = len(y_true)\n",
    "mse = sum_sq / n\n",
    "\n",
    "# 3) Raíz cuarta\n",
    "score = mse ** 0.25\n",
    "\n",
    "# 4) Mostrar resultados\n",
    "print(f\"Número de muestras: {n}\")\n",
    "print(f\"Suma de errores al cuadrado: {sum_sq:.6f}\")\n",
    "print(f\"MSE       = {mse:.6f}\")\n",
    "print(f\"SCORE     = (MSE)^(1/4) = {score:.6f}\")\n"
   ]
  },
  {
   "cell_type": "code",
   "execution_count": null,
   "id": "9d2a1e67-ca2d-45dd-8e79-32bc837e02a9",
   "metadata": {},
   "outputs": [],
   "source": []
  }
 ],
 "metadata": {
  "kernelspec": {
   "display_name": "Python 3 (ipykernel)",
   "language": "python",
   "name": "python3"
  },
  "language_info": {
   "codemirror_mode": {
    "name": "ipython",
    "version": 3
   },
   "file_extension": ".py",
   "mimetype": "text/x-python",
   "name": "python",
   "nbconvert_exporter": "python",
   "pygments_lexer": "ipython3",
   "version": "3.11.6"
  }
 },
 "nbformat": 4,
 "nbformat_minor": 5
}
