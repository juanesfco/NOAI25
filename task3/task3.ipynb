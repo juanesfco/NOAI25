{
 "cells": [
  {
   "cell_type": "markdown",
   "metadata": {},
   "source": [
    "# Task 3 Baseline Notebook\n",
    "\n",
    "Build a regression model using all the features available in `train_task3.csv` file to predict `target` column."
   ]
  },
  {
   "cell_type": "code",
   "execution_count": null,
   "metadata": {
    "_cell_guid": "b1076dfc-b9ad-4769-8c92-a6c4dae69d19",
    "_uuid": "8f2839f25d086af736a60e9eeb907d3b93b6e0e5"
   },
   "outputs": [],
   "source": [
    "import numpy as np # linear algebra\n",
    "import pandas as pd # data processing, CSV file I/O (e.g. pd.read_csv)\n",
    "import lightgbm as lgb"
   ]
  },
  {
   "cell_type": "markdown",
   "metadata": {},
   "source": [
    "In this task you will have to solve a standard problem on tabular data. However, the final solution must be obtained using the function **clf_train**.\n",
    "\n",
    "## Metric\n",
    "\n",
    "squared [RMSE](https://en.wikipedia.org/wiki/Root_mean_square_deviation) \n",
    "$$ SCORE = (\\sum_{i=1}^{n}{(true_i - predict_i)^{2}}/n)^{1/4} $$\n",
    "* **true** - real value of target\n",
    "* **predict** - your predict\n",
    "* **n** - length of target\n",
    "\n",
    "## Restriction\n",
    "\n",
    "You cannot change the code of the **clf_train** function. You can only use submissions produced by this function. This function takes the following s input: training and test datasets with the features preprocessed by you, weigh\n",
    "ts of target for training, id column for generating the sample_submission.csv and function for inverting the target. \n",
    "\n",
    "## Data\n",
    "\n",
    "* **train_task3.csv** - train dataset with 9 numeric features, 3 datetime features and target\n",
    "* **eval_task3.csv** - test dataset with 9 numeric features, 3 datetime features and id for submission"
   ]
  },
  {
   "cell_type": "markdown",
   "metadata": {},
   "source": [
    "## Read and process data"
   ]
  },
  {
   "cell_type": "code",
   "execution_count": null,
   "metadata": {},
   "outputs": [],
   "source": [
    "# Code here"
   ]
  },
  {
   "cell_type": "markdown",
   "metadata": {},
   "source": [
    "## Inference function\n",
    "\n",
    "**You cannot change this function.**"
   ]
  },
  {
   "cell_type": "code",
   "execution_count": null,
   "metadata": {},
   "outputs": [],
   "source": [
    "def clf_train(train, test, target, weight_col, id_col, name_file = 'sub.csv', func_inv = None):\n",
    "\n",
    "    param = {\n",
    "    'learning_rate': 0.1,\n",
    "    'num_leaves': 48,\n",
    "    'lambda_l1' : 1,\n",
    "    'lambda_l2' : 1,\n",
    "    'min_data_in_leaf' : 100,\n",
    "    'objective': 'mae',\n",
    "    'verbosity':-1,\n",
    "    }\n",
    "    \n",
    "    predict_test = np.zeros(len(test))\n",
    "\n",
    "    tr = lgb.Dataset(train, target, weight=weight_col)\n",
    "    bst = lgb.train(param, tr, num_boost_round=500)\n",
    "    predict_test = bst.predict(test)\n",
    "    if func_inv:\n",
    "        predict_test = func_inv(predict_test)\n",
    "    sub = pd.DataFrame()\n",
    "    sub['id'] = id_col\n",
    "    sub['target'] = predict_test\n",
    "    sub.to_csv(name_file, index = None)"
   ]
  },
  {
   "cell_type": "markdown",
   "metadata": {},
   "source": [
    "Function to change target if you need it"
   ]
  },
  {
   "cell_type": "code",
   "execution_count": null,
   "metadata": {},
   "outputs": [],
   "source": [
    "def func_inv(x):\n",
    "    return x "
   ]
  },
  {
   "cell_type": "markdown",
   "metadata": {},
   "source": [
    "Train and inference. \n",
    "You should use **clf_train** for generating submission. Assign `train` to the name of the training dataframe and `test` to the name of the testing dataframe."
   ]
  },
  {
   "cell_type": "code",
   "execution_count": null,
   "metadata": {},
   "outputs": [],
   "source": [
    "drop_cols = ['target']\n",
    "train_cols = [c for c in train.columns if c not in drop_cols]\n",
    "weight = np.ones(len(train))\n",
    "test_sub = clf_train(train[train_cols], test[train_cols], train['target'] , weight, test['id'].tolist(), 'submission.csv', func_inv = func_inv)"
   ]
  },
  {
   "cell_type": "code",
   "execution_count": null,
   "metadata": {},
   "outputs": [],
   "source": [
    "# Generate predictions_task3.csv\n",
    "drop_cols  = ['target']\n",
    "train_cols = [c for c in train.columns if c not in drop_cols]\n",
    "weight     = np.ones(len(train))\n",
    "\n",
    "clf_train(\n",
    "    train[train_cols],\n",
    "    test [train_cols],\n",
    "    train['target'],\n",
    "    weight,\n",
    "    test['id'].tolist(),\n",
    "    name_file='predictions_task3.csv',\n",
    "    func_inv=func_inv\n",
    ")\n",
    "\n",
    "print(\"Generated predictions_task3.csv with columns ['id','target'].\")"
   ]
  },
  {
   "cell_type": "code",
   "execution_count": null,
   "metadata": {},
   "outputs": [],
   "source": []
  }
 ],
 "metadata": {
  "kaggle": {
   "accelerator": "none",
   "dataSources": [
    {
     "databundleVersionId": 12178557,
     "sourceId": 100977,
     "sourceType": "competition"
    }
   ],
   "dockerImageVersionId": 31012,
   "isGpuEnabled": false,
   "isInternetEnabled": true,
   "language": "python",
   "sourceType": "notebook"
  },
  "kernelspec": {
   "display_name": "Python 3",
   "language": "python",
   "name": "python3"
  },
  "language_info": {
   "codemirror_mode": {
    "name": "ipython",
    "version": 3
   },
   "file_extension": ".py",
   "mimetype": "text/x-python",
   "name": "python",
   "nbconvert_exporter": "python",
   "pygments_lexer": "ipython3",
   "version": "3.12.10"
  }
 },
 "nbformat": 4,
 "nbformat_minor": 4
}
