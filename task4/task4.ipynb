{
 "cells": [
  {
   "cell_type": "markdown",
   "metadata": {},
   "source": [
    "# Task 4 Baseline Notebook: Clustering\n",
    "\n",
    "Welcome to the Puerto Rico **National Olympiad of Artificial Intelligence 2025**!\n",
    "\n",
    "Build an unsupervised clustering model."
   ]
  },
  {
   "cell_type": "markdown",
   "metadata": {},
   "source": [
    "## Legend\n",
    "\n",
    "## Slava's glass.\n",
    "\n",
    "Slava walked down the corridor, clutching his trophy — the Glass. The twisted halls were behind him, traps dismantled, Bayesian illusions avoided. Ahead — a heavy wooden door with a sign that read \"Exit.\" Freedom. Victory. Light.\n",
    "\n",
    "But just as he reached for the handle, the air shimmered. The walls groaned, and the scent of chalk filled the space, as if someone had just solved an infinite system of equations.\n",
    "Out of the shadows stepped Roman — draped in a black robe, a scroll under his arm, and eyes sharp enough to slice through any neural net.\n",
    "\n",
    "Slava knew him. Knew him from the university days.\n",
    "They said Roman could prove a theorem before it was even formulated.\n",
    "They said he could see the loss function of reality.\n",
    "The Mathematical Mage.\n",
    "\n",
    "— “Wanna play a game?” Roman asked, and with a flick of his wrist, the Glass vanished from Slava’s hand and reappeared in Roman’s.\n",
    "\n",
    "— “Not bad. You escaped my labyrinth. But if you want to leave this place with your precious...”\n",
    "He tossed the glass and caught it casually.\n",
    "\n",
    "— “You’ll have to impress me.”\n",
    "\n",
    "From his sleeve, Roman pulled out a deck of old cards. He snapped his fingers — and the deck exploded into glowing fragments, scattering through the room like data points in chaos.\n",
    "\n",
    "— “Bring me this deck — whole, complete, and intact. Not just gathered. Understood.”\n",
    "\n",
    "Slava took a deep breath. He knew this was the final challenge. The hardest one.\n",
    "He opened his laptop, put on his headphones — and in his ears began the final lines of Al Pacino’s legendary speech:\n",
    "\n",
    "“I mean one-half a step too late, or too early, and you don’t quite make it. One-half second too slow, too fast, you don’t quite catch it. The inches we need are everywhere around us. They’re in every break of the game, every minute, every second. On this team, we fight for that inch. On this team, we tear ourselves and everyone else around us to pieces for that inch. We claw with our fingernails for that inch, because we know when we add up all those inches that’s gonna make the f**** difference between winning and losing! Between livin' and dyin'!”\n",
    "\n",
    "He hit Enter.\n",
    "\n",
    "🧩 Your Task:\n",
    "You are given a set of arrays, where each array represents an image. The images have been augmented. It is known that all data comes from 32 original images, each one followed by several transformed versions.\n",
    "Your goal is to cluster these arrays.\n",
    "\n",
    "\n",
    "Slava looked at the scattered card fragments.\n",
    "\n",
    "— “The game’s not over yet,”.\n",
    "\n",
    "\n",
    "\n",
    "## Overview\n",
    "\n",
    "You are given two sets of arrays, **X₁** and **X₂**. Each row in both arrays corresponds to the **same image** (these arrays represent its features). Your task is to cluster the given images. It is known that there are **32 clusters**. Additionally, each original image has been **augmented multiple times**, and the augmented versions have been added to the dataset.\n",
    "\n",
    "## Metric\n",
    "\n",
    "[adjusted_rand_score](https://scikit-learn.org/stable/modules/generated/sklearn.metrics.adjusted_rand_score.html)\n",
    "\n",
    "## Restriction\n",
    "\n",
    "If you want to use neural network, you can only use the neural network below - EmbNet. You can't change anything inside the neural network class. You **can't finetune the model** and change the weights.\n",
    "\n",
    "## predictions_task4.csv\n",
    "\n",
    "predictions_task4 consists of a column ID, where the value is the row number in the dataset, and target columns with your predicts of clusters."
   ]
  },
  {
   "cell_type": "code",
   "execution_count": 1,
   "metadata": {
    "_cell_guid": "b1076dfc-b9ad-4769-8c92-a6c4dae69d19",
    "_uuid": "8f2839f25d086af736a60e9eeb907d3b93b6e0e5"
   },
   "outputs": [],
   "source": [
    "from sklearn.cluster import KMeans\n",
    "from sklearn.metrics import adjusted_rand_score\n",
    "import numpy as np\n",
    "import pandas as pd\n",
    "from torch import nn"
   ]
  },
  {
   "cell_type": "code",
   "execution_count": 2,
   "metadata": {},
   "outputs": [],
   "source": [
    "class EmbNet(nn.Module):\n",
    "    def __init__(self):\n",
    "        super().__init__()\n",
    "        self.model = timm.create_model(\"tiny_vit_5m_224.dist_in22k_ft_in1k\", pretrained=True, num_classes=0)\n",
    "\n",
    "    def forward(self, image):\n",
    "        x = self.model(image)\n",
    "        return x"
   ]
  },
  {
   "cell_type": "code",
   "execution_count": 4,
   "metadata": {},
   "outputs": [
    {
     "name": "stderr",
     "output_type": "stream",
     "text": [
      "/opt/homebrew/lib/python3.12/site-packages/sklearn/cluster/_kmeans.py:1416: FutureWarning: The default value of `n_init` will change from 10 to 'auto' in 1.4. Set the value of `n_init` explicitly to suppress the warning\n",
      "  super()._check_params_vs_input(X, default_n_init=10)\n"
     ]
    },
    {
     "name": "stdout",
     "output_type": "stream",
     "text": [
      "SUBMIT_NAME: predicions_task4.csv\n",
      "   id  target\n",
      "0   0      23\n",
      "1   1      27\n",
      "2   2       3\n",
      "3   3      29\n",
      "4   4      16\n",
      "5   5      27\n",
      "6   6      23\n",
      "7   7       9\n",
      "8   8      11\n",
      "9   9      23\n"
     ]
    }
   ],
   "source": [
    "def generate_submit(pred_cluster):\n",
    "    sub = pd.DataFrame()\n",
    "    sub['id'] = np.arange(len(pred_cluster))\n",
    "    sub['target'] = pred_cluster\n",
    "    submit_path = \"predicions_task4.csv\"\n",
    "    print(f\"SUBMIT_NAME: {submit_path}\")\n",
    "    print(sub.head(10))\n",
    "    sub.to_csv(submit_path, index = None)\n",
    "\n",
    "\n",
    "X_1 = np.load('data_1.npz')\n",
    "X_1 = X_1.f.arr_0\n",
    "X_2 = np.load('data_2.npz')\n",
    "X_2 = X_2.f.arr_0\n",
    "\n",
    "km = KMeans(32)\n",
    "X = np.concatenate((X_1.reshape((X_1.shape[0], X_1.shape[1] * X_1.shape[2])), X_2.reshape((X_2.shape[0], X_2.shape[1] * X_2.shape[2]))), 1)\n",
    "pred_cluster = km.fit_predict(X)\n",
    "\n",
    "generate_submit(pred_cluster)"
   ]
  },
  {
   "cell_type": "code",
   "execution_count": null,
   "metadata": {},
   "outputs": [],
   "source": []
  }
 ],
 "metadata": {
  "kaggle": {
   "accelerator": "none",
   "dataSources": [
    {
     "databundleVersionId": 12163515,
     "sourceId": 101035,
     "sourceType": "competition"
    }
   ],
   "isGpuEnabled": false,
   "isInternetEnabled": true,
   "language": "python",
   "sourceType": "notebook"
  },
  "kernelspec": {
   "display_name": "Python 3",
   "language": "python",
   "name": "python3"
  },
  "language_info": {
   "codemirror_mode": {
    "name": "ipython",
    "version": 3
   },
   "file_extension": ".py",
   "mimetype": "text/x-python",
   "name": "python",
   "nbconvert_exporter": "python",
   "pygments_lexer": "ipython3",
   "version": "3.12.10"
  }
 },
 "nbformat": 4,
 "nbformat_minor": 4
}
